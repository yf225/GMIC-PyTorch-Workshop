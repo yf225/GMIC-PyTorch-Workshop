{
 "cells": [
  {
   "cell_type": "code",
   "execution_count": 58,
   "metadata": {},
   "outputs": [],
   "source": [
    "# Visualize MNIST dataset\n",
    "# Train MNIST\n",
    "# Plot loss curve"
   ]
  },
  {
   "cell_type": "code",
   "execution_count": 3,
   "metadata": {},
   "outputs": [],
   "source": [
    "import torch"
   ]
  },
  {
   "cell_type": "code",
   "execution_count": 4,
   "metadata": {},
   "outputs": [],
   "source": [
    "from torchvision.datasets import MNIST"
   ]
  },
  {
   "cell_type": "code",
   "execution_count": 5,
   "metadata": {},
   "outputs": [],
   "source": [
    "from torchvision import transforms"
   ]
  },
  {
   "cell_type": "code",
   "execution_count": 6,
   "metadata": {},
   "outputs": [],
   "source": [
    "# TODO: talk more about what these compose options do\n",
    "transf = transforms.Compose([transforms.ToTensor(), transforms.Normalize((0.5, ), (1.0, ))])"
   ]
  },
  {
   "cell_type": "code",
   "execution_count": 8,
   "metadata": {},
   "outputs": [
    {
     "name": "stdout",
     "output_type": "stream",
     "text": [
      "Downloading http://yann.lecun.com/exdb/mnist/train-images-idx3-ubyte.gz\n",
      "Downloading http://yann.lecun.com/exdb/mnist/train-labels-idx1-ubyte.gz\n",
      "Downloading http://yann.lecun.com/exdb/mnist/t10k-images-idx3-ubyte.gz\n",
      "Downloading http://yann.lecun.com/exdb/mnist/t10k-labels-idx1-ubyte.gz\n",
      "Processing...\n",
      "Done!\n"
     ]
    }
   ],
   "source": [
    "train_set = MNIST(root='./data', train=True, transform=transf, download=False) # load training dataset"
   ]
  },
  {
   "cell_type": "code",
   "execution_count": 9,
   "metadata": {},
   "outputs": [
    {
     "data": {
      "text/plain": [
       "torch.Size([60000, 28, 28])"
      ]
     },
     "execution_count": 9,
     "metadata": {},
     "output_type": "execute_result"
    }
   ],
   "source": [
    "train_set.train_data.shape # see dataset size"
   ]
  },
  {
   "cell_type": "code",
   "execution_count": 47,
   "metadata": {},
   "outputs": [],
   "source": [
    "train_set.train_data[0];"
   ]
  },
  {
   "cell_type": "code",
   "execution_count": 66,
   "metadata": {},
   "outputs": [],
   "source": [
    "# # To visualize the samples in dataset, let's use matplotlib\n",
    "%matplotlib inline\n",
    "import matplotlib.pyplot as plt"
   ]
  },
  {
   "cell_type": "code",
   "execution_count": 67,
   "metadata": {},
   "outputs": [
    {
     "data": {
      "text/plain": [
       "<matplotlib.image.AxesImage at 0x120f737b8>"
      ]
     },
     "execution_count": 67,
     "metadata": {},
     "output_type": "execute_result"
    },
    {
     "data": {
      "image/png": "[encoded data removed]",
      "text/plain": [
       "<Figure size 432x288 with 1 Axes>"
      ]
     },
     "metadata": {},
     "output_type": "display_data"
    }
   ],
   "source": [
    "train_set.train_data[0].shape\n",
    "plt.imshow(train_set.train_data[0], cmap='gray')\n"
   ]
  },
  {
   "cell_type": "code",
   "execution_count": 17,
   "metadata": {},
   "outputs": [
    {
     "data": {
      "text/plain": [
       "tensor(5)"
      ]
     },
     "execution_count": 17,
     "metadata": {},
     "output_type": "execute_result"
    }
   ],
   "source": [
    "train_set.train_labels[0]"
   ]
  },
  {
   "cell_type": "code",
   "execution_count": 18,
   "metadata": {},
   "outputs": [],
   "source": [
    "test_set = MNIST(root='./data', train=False, transform=transf, download=True) # load training dataset"
   ]
  },
  {
   "cell_type": "code",
   "execution_count": 19,
   "metadata": {},
   "outputs": [],
   "source": [
    "from torchvision.utils import make_grid # Combine images into a nice-looking grid layout"
   ]
  },
  {
   "cell_type": "code",
   "execution_count": 45,
   "metadata": {},
   "outputs": [
    {
     "name": "stdout",
     "output_type": "stream",
     "text": [
      "torch.Size([60000, 28, 28])\n",
      "torch.Size([60000, 1, 28, 28])\n"
     ]
    }
   ],
   "source": [
    "# first 10 samples combined together\n",
    "# MNIST dataset doesn't have channel dimension, so we use unsqueeze to manually add it\n",
    "def show(img):\n",
    "    plt.imshow(np.transpose(img.numpy(), (1, 2, 0)), interpolation='nearest')\n",
    "    plt.axis('off')\n",
    "    plt.show()\n",
    "    \n",
    "print(train_set.train_data.shape)\n",
    "print(train_set.train_data.unsqueeze(1).shape)\n",
    "combined_image = make_grid(train_set.train_data[:10].unsqueeze(1))"
   ]
  },
  {
   "cell_type": "code",
   "execution_count": 49,
   "metadata": {},
   "outputs": [
    {
     "data": {
      "image/png": "[encoded data removed]",
      "text/plain": [
       "<Figure size 432x288 with 1 Axes>"
      ]
     },
     "metadata": {},
     "output_type": "display_data"
    }
   ],
   "source": [
    "show(combined_image)"
   ]
  },
  {
   "cell_type": "code",
   "execution_count": 60,
   "metadata": {},
   "outputs": [],
   "source": [
    "# Better way to visualize how good our model does\n",
    "# For each target value (0-9), see how often our model gets it right\n",
    "def confusion(model, n, dataset):\n",
    "    conf = torch.zeros(n, n)\n",
    "    model.eval() # Put model in evaluation mode\n",
    "    for data, target in dataset:\n",
    "        data = data.unsqueeze(1)\n",
    "        output = model(data)\n",
    "        _, pred = torch.max(output.data, 1)\n",
    "        conf[target][pred[0]] += 1\n",
    "        \n",
    "    # Normalize\n",
    "    for i in range(n):\n",
    "        conf[i] = conf[i] / conf[i].sum()\n",
    "        \n",
    "    plt.matshow(conf.numpy())\n",
    "    plt.show()\n",
    "    \n",
    "# A perfect model should show a diagonal white line"
   ]
  },
  {
   "cell_type": "code",
   "execution_count": 26,
   "metadata": {},
   "outputs": [],
   "source": [
    "import torch.nn as nn\n",
    "import torch.nn.functional as F"
   ]
  },
  {
   "cell_type": "code",
   "execution_count": 27,
   "metadata": {},
   "outputs": [],
   "source": [
    "# Define our own CNN\n",
    "class CNN(nn.Module):\n",
    "    def __init__(self):\n",
    "        super(CNN, self).__init__()\n",
    "        self.conv1 = nn.Conv2d(1, 10, kernel_size=5)\n",
    "        self.conv2 = nn.Conv2d(10, 20, kernel_size=5)\n",
    "        self.fc1 = nn.Linear(20 * 4 * 4, 50)\n",
    "        self.fc2 = nn.Linear(50, 10)\n",
    "        \n",
    "    def forward(self, x):\n",
    "        # we can also use functional interface for Conv2d and pass in the weights and biases, useful in weight sharing scenario\n",
    "        x = F.relu(F.max_pool2d(self.conv1(x), 2))\n",
    "        x = F.relu(F.max_pool2d(self.conv2(x), 2))\n",
    "        x = x.view(-1, 20 * 4 * 4) # -1 means we only care about the size of the last dimension, and just merge the rest of the dimensions into one\n",
    "        x = F.relu(self.fc1(x))\n",
    "        x = self.fc2(x)\n",
    "        return F.log_softmax(x, dim=-1)"
   ]
  },
  {
   "cell_type": "code",
   "execution_count": 51,
   "metadata": {},
   "outputs": [],
   "source": [
    "# Before we train the model, let's define the method for plotting the loss curve\n",
    "import numpy as np"
   ]
  },
  {
   "cell_type": "code",
   "execution_count": 52,
   "metadata": {},
   "outputs": [],
   "source": [
    "from torch import optim"
   ]
  },
  {
   "cell_type": "code",
   "execution_count": 53,
   "metadata": {},
   "outputs": [],
   "source": [
    "from torch.optim import lr_scheduler"
   ]
  },
  {
   "cell_type": "code",
   "execution_count": 54,
   "metadata": {},
   "outputs": [],
   "source": [
    "from torch.utils.data import TensorDataset, DataLoader"
   ]
  },
  {
   "cell_type": "code",
   "execution_count": 55,
   "metadata": {},
   "outputs": [],
   "source": [
    "def train_model(model, train_set, test_set, nepochs):\n",
    "    batch_size = 500\n",
    "    # dataloader can help you get batched data and shuffle the data\n",
    "    train_loader = DataLoader(train_set, batch_size=batch_size, shuffle=True)\n",
    "    test_loader = DataLoader(test_set)\n",
    "    \n",
    "    optimizer = optim.SGD(model.parameters(), lr=0.03, momentum=0.5)\n",
    "    \n",
    "    model.train()\n",
    "    \n",
    "    for epoch in range(nepochs):\n",
    "        model.train()\n",
    "        for batch_idx, (data, target) in enumerate(train_loader):\n",
    "            optimizer.zero_grad() # This will zero out all the gradients for the model's parameters\n",
    "            output = model(data) # This is a softmax output over the possible labels\n",
    "            loss = F.nll_loss(output, target)\n",
    "            loss.backward()\n",
    "            optimizer.step()\n",
    "            \n",
    "            if batch_idx % 50 == 0:\n",
    "                print('Train Epoch: {} [{}/{} ({:.0f}%)]\\tLoss: {:.6f}'.format(\n",
    "                    epoch, batch_idx * len(data), len(train_loader.dataset),\n",
    "                    100. * batch_idx / len(train_loader), float(loss)))\n",
    "\n",
    "        model.eval()\n",
    "        test_loss = 0.0\n",
    "        correct = 0\n",
    "        for data, target in test_loader:\n",
    "            output = model(data)\n",
    "            test_loss += F.nll_loss(output, target, size_average=False).data.item()\n",
    "            \n",
    "            _, pred = torch.max(output.data, 1)\n",
    "            \n",
    "            correct += (pred == target.data).sum()\n",
    "            \n",
    "        test_loss /= len(test_set)\n",
    "        accuracy = float(correct)/len(test_set)\n",
    "        print(\"Loss: {:.6f}\".format(test_loss), \"Accuracy: \", accuracy)\n",
    "#         plot_loss_curve(epoch, nepochs, test_loss, accuracy)"
   ]
  },
  {
   "cell_type": "code",
   "execution_count": 56,
   "metadata": {},
   "outputs": [],
   "source": [
    "model = CNN()"
   ]
  },
  {
   "cell_type": "code",
   "execution_count": 57,
   "metadata": {},
   "outputs": [
    {
     "name": "stdout",
     "output_type": "stream",
     "text": [
      "Train Epoch: 0 [0/60000 (0%)]\tLoss: 2.308905\n",
      "Train Epoch: 0 [25000/60000 (42%)]\tLoss: 2.258031\n",
      "Train Epoch: 0 [50000/60000 (83%)]\tLoss: 1.857227\n",
      "Loss: 1.013795 Accuracy:  0.7894\n",
      "Train Epoch: 1 [0/60000 (0%)]\tLoss: 0.994386\n",
      "Train Epoch: 1 [25000/60000 (42%)]\tLoss: 0.372238\n",
      "Train Epoch: 1 [50000/60000 (83%)]\tLoss: 0.315495\n",
      "Loss: 0.297112 Accuracy:  0.9106\n",
      "Train Epoch: 2 [0/60000 (0%)]\tLoss: 0.353662\n",
      "Train Epoch: 2 [25000/60000 (42%)]\tLoss: 0.368623\n",
      "Train Epoch: 2 [50000/60000 (83%)]\tLoss: 0.213899\n",
      "Loss: 0.207606 Accuracy:  0.9354\n",
      "Train Epoch: 3 [0/60000 (0%)]\tLoss: 0.203597\n",
      "Train Epoch: 3 [25000/60000 (42%)]\tLoss: 0.179178\n",
      "Train Epoch: 3 [50000/60000 (83%)]\tLoss: 0.230627\n",
      "Loss: 0.166928 Accuracy:  0.9464\n",
      "Train Epoch: 4 [0/60000 (0%)]\tLoss: 0.129435\n",
      "Train Epoch: 4 [25000/60000 (42%)]\tLoss: 0.178167\n",
      "Train Epoch: 4 [50000/60000 (83%)]\tLoss: 0.126912\n",
      "Loss: 0.128274 Accuracy:  0.9606\n",
      "Train Epoch: 5 [0/60000 (0%)]\tLoss: 0.202354\n",
      "Train Epoch: 5 [25000/60000 (42%)]\tLoss: 0.118179\n",
      "Train Epoch: 5 [50000/60000 (83%)]\tLoss: 0.111472\n",
      "Loss: 0.110011 Accuracy:  0.9669\n",
      "Train Epoch: 6 [0/60000 (0%)]\tLoss: 0.085549\n",
      "Train Epoch: 6 [25000/60000 (42%)]\tLoss: 0.090724\n",
      "Train Epoch: 6 [50000/60000 (83%)]\tLoss: 0.104655\n",
      "Loss: 0.098244 Accuracy:  0.9712\n",
      "Train Epoch: 7 [0/60000 (0%)]\tLoss: 0.133071\n",
      "Train Epoch: 7 [25000/60000 (42%)]\tLoss: 0.093202\n",
      "Train Epoch: 7 [50000/60000 (83%)]\tLoss: 0.096680\n",
      "Loss: 0.089169 Accuracy:  0.9728\n",
      "Train Epoch: 8 [0/60000 (0%)]\tLoss: 0.112133\n",
      "Train Epoch: 8 [25000/60000 (42%)]\tLoss: 0.084470\n",
      "Train Epoch: 8 [50000/60000 (83%)]\tLoss: 0.092484\n",
      "Loss: 0.079081 Accuracy:  0.9757\n",
      "Train Epoch: 9 [0/60000 (0%)]\tLoss: 0.108047\n",
      "Train Epoch: 9 [25000/60000 (42%)]\tLoss: 0.082255\n",
      "Train Epoch: 9 [50000/60000 (83%)]\tLoss: 0.089012\n",
      "Loss: 0.073529 Accuracy:  0.9758\n"
     ]
    }
   ],
   "source": [
    "train_model(model, train_set, test_set, 10)"
   ]
  },
  {
   "cell_type": "code",
   "execution_count": 61,
   "metadata": {},
   "outputs": [
    {
     "data": {
      "image/png": "[encoded data removed]",
      "text/plain": [
       "<Figure size 288x288 with 1 Axes>"
      ]
     },
     "metadata": {},
     "output_type": "display_data"
    }
   ],
   "source": [
    "confusion(model, 10, test_set) # See confusion matrix"
   ]
  },
  {
   "cell_type": "code",
   "execution_count": 62,
   "metadata": {},
   "outputs": [],
   "source": [
    "# Save model state as checkpoint, to be used later\n",
    "torch.save(model.state_dict(), 'mnist.pth')\n",
    "\n",
    "# Load model into another variable\n",
    "new_model = CNN()\n",
    "new_model.load_state_dict(torch.load('mnist.pth'))"
   ]
  },
  {
   "cell_type": "code",
   "execution_count": 63,
   "metadata": {},
   "outputs": [
    {
     "data": {
      "text/plain": [
       "CNN(\n",
       "  (conv1): Conv2d(1, 10, kernel_size=(5, 5), stride=(1, 1))\n",
       "  (conv2): Conv2d(10, 20, kernel_size=(5, 5), stride=(1, 1))\n",
       "  (fc1): Linear(in_features=320, out_features=50, bias=True)\n",
       "  (fc2): Linear(in_features=50, out_features=10, bias=True)\n",
       ")"
      ]
     },
     "execution_count": 63,
     "metadata": {},
     "output_type": "execute_result"
    }
   ],
   "source": [
    "new_model"
   ]
  },
  {
   "cell_type": "code",
   "execution_count": 64,
   "metadata": {},
   "outputs": [
    {
     "data": {
      "text/plain": [
       "CNN(\n",
       "  (conv1): Conv2d(1, 10, kernel_size=(5, 5), stride=(1, 1))\n",
       "  (conv2): Conv2d(10, 20, kernel_size=(5, 5), stride=(1, 1))\n",
       "  (fc1): Linear(in_features=320, out_features=50, bias=True)\n",
       "  (fc2): Linear(in_features=50, out_features=10, bias=True)\n",
       ")"
      ]
     },
     "execution_count": 64,
     "metadata": {},
     "output_type": "execute_result"
    }
   ],
   "source": [
    "new_model"
   ]
  },
  {
   "cell_type": "code",
   "execution_count": 65,
   "metadata": {
    "scrolled": true
   },
   "outputs": [
    {
     "data": {
      "text/plain": [
       "CNN(\n",
       "  (conv1): Conv2d(1, 10, kernel_size=(5, 5), stride=(1, 1))\n",
       "  (conv2): Conv2d(10, 20, kernel_size=(5, 5), stride=(1, 1))\n",
       "  (fc1): Linear(in_features=320, out_features=50, bias=True)\n",
       "  (fc2): Linear(in_features=50, out_features=10, bias=True)\n",
       ")"
      ]
     },
     "execution_count": 65,
     "metadata": {},
     "output_type": "execute_result"
    }
   ],
   "source": [
    "model"
   ]
  },
  {
   "cell_type": "code",
   "execution_count": 32,
   "metadata": {},
   "outputs": [],
   "source": [
    "# TODO: for transfer learning, make sure the two linear layers are replaced"
   ]
  }
 ],
 "metadata": {
  "kernelspec": {
   "display_name": "Python 3",
   "language": "python",
   "name": "python3"
  },
  "language_info": {
   "codemirror_mode": {
    "name": "ipython",
    "version": 3
   },
   "file_extension": ".py",
   "mimetype": "text/x-python",
   "name": "python",
   "nbconvert_exporter": "python",
   "pygments_lexer": "ipython3",
   "version": "3.6.4"
  }
 },
 "nbformat": 4,
 "nbformat_minor": 2
}
