{
 "cells": [
  {
   "cell_type": "markdown",
   "metadata": {},
   "source": [
    "# 教程二：迁移学习 - 从MNIST到USPS"
   ]
  },
  {
   "cell_type": "code",
   "execution_count": null,
   "metadata": {},
   "outputs": [],
   "source": [
    "# MNIST是一个数字手写体的小数据集，经常用来演示如何训练简单的卷积神经网络\n",
    "\n",
    "# 我们先来导入必须要用到的库"
   ]
  },
  {
   "cell_type": "code",
   "execution_count": 1,
   "metadata": {},
   "outputs": [],
   "source": [
    "import torch"
   ]
  },
  {
   "cell_type": "code",
   "execution_count": 2,
   "metadata": {},
   "outputs": [],
   "source": [
    "from torchvision.datasets import MNIST"
   ]
  },
  {
   "cell_type": "code",
   "execution_count": 3,
   "metadata": {},
   "outputs": [],
   "source": [
    "from torchvision import transforms"
   ]
  },
  {
   "cell_type": "code",
   "execution_count": 4,
   "metadata": {},
   "outputs": [],
   "source": [
    "# 定义一些转换，如归一化\n",
    "transf = transforms.Compose([transforms.ToTensor(), transforms.Normalize((0.5, ), (1.0, ))])"
   ]
  },
  {
   "cell_type": "code",
   "execution_count": 5,
   "metadata": {},
   "outputs": [],
   "source": [
    "# 加载训练数据集\n",
    "train_set = MNIST(root='./data', train=True, transform=transf, download=False)"
   ]
  },
  {
   "cell_type": "code",
   "execution_count": 6,
   "metadata": {},
   "outputs": [
    {
     "data": {
      "text/plain": [
       "torch.Size([60000, 28, 28])"
      ]
     },
     "execution_count": 6,
     "metadata": {},
     "output_type": "execute_result"
    }
   ],
   "source": [
    "# 查看数据集大小\n",
    "train_set.train_data.shape"
   ]
  },
  {
   "cell_type": "code",
   "execution_count": 7,
   "metadata": {},
   "outputs": [],
   "source": [
    "train_set.train_data[0];"
   ]
  },
  {
   "cell_type": "code",
   "execution_count": 8,
   "metadata": {},
   "outputs": [],
   "source": [
    "# 用matplotlib做可视化\n",
    "%matplotlib inline\n",
    "import matplotlib.pyplot as plt"
   ]
  },
  {
   "cell_type": "code",
   "execution_count": 9,
   "metadata": {},
   "outputs": [
    {
     "data": {
      "text/plain": [
       "<matplotlib.image.AxesImage at 0x11c48df98>"
      ]
     },
     "execution_count": 9,
     "metadata": {},
     "output_type": "execute_result"
    },
    {
     "data": {
      "image/png": "[encoded data removed]",
      "text/plain": [
       "<Figure size 432x288 with 1 Axes>"
      ]
     },
     "metadata": {},
     "output_type": "display_data"
    }
   ],
   "source": [
    "train_set.train_data[0].shape\n",
    "plt.imshow(train_set.train_data[0], cmap='gray')"
   ]
  },
  {
   "cell_type": "code",
   "execution_count": 10,
   "metadata": {},
   "outputs": [
    {
     "data": {
      "text/plain": [
       "tensor(5)"
      ]
     },
     "execution_count": 10,
     "metadata": {},
     "output_type": "execute_result"
    }
   ],
   "source": [
    "train_set.train_labels[0]"
   ]
  },
  {
   "cell_type": "code",
   "execution_count": 11,
   "metadata": {},
   "outputs": [],
   "source": [
    "# 加载测试数据集\n",
    "test_set = MNIST(root='./data', train=False, transform=transf, download=False)"
   ]
  },
  {
   "cell_type": "code",
   "execution_count": 16,
   "metadata": {},
   "outputs": [],
   "source": [
    "# 显示混淆矩阵，来看模型对不同的标签的推测准确度\n",
    "# 一个100%正确的模型将会显示一条对角白线\n",
    "def confusion(model, n, dataset):\n",
    "    conf = torch.zeros(n, n)\n",
    "    model.eval() # 把模型设置到推理模式\n",
    "    for data, target in dataset:\n",
    "        data = data.unsqueeze(1)\n",
    "        output = model(data)\n",
    "        _, pred = torch.max(output.data, 1)\n",
    "        conf[target][pred[0]] += 1\n",
    "        \n",
    "    # 归一化\n",
    "    for i in range(n):\n",
    "        conf[i] = conf[i] / conf[i].sum()\n",
    "        \n",
    "    plt.matshow(conf.numpy(), cmap='gray')\n",
    "    plt.show()"
   ]
  },
  {
   "cell_type": "code",
   "execution_count": 17,
   "metadata": {},
   "outputs": [],
   "source": [
    "import torch.nn as nn\n",
    "import torch.nn.functional as F"
   ]
  },
  {
   "cell_type": "code",
   "execution_count": 18,
   "metadata": {},
   "outputs": [],
   "source": [
    "# 定义卷积神经网络\n",
    "class CNN(nn.Module):\n",
    "    def __init__(self):\n",
    "        super(CNN, self).__init__()\n",
    "        self.conv1 = nn.Conv2d(1, 10, kernel_size=5)\n",
    "        self.conv2 = nn.Conv2d(10, 20, kernel_size=5)\n",
    "        self.fc1 = nn.Linear(20 * 4 * 4, 50)\n",
    "        self.fc2 = nn.Linear(50, 10)\n",
    "        \n",
    "    def forward(self, x):\n",
    "        x = F.relu(F.max_pool2d(self.conv1(x), 2))\n",
    "        x = F.relu(F.max_pool2d(self.conv2(x), 2))\n",
    "        x = x.view(-1, 20 * 4 * 4) # -1的意思是我们只关注最后一个维度的大小，然后把剩下的维度都合并成一个维度\n",
    "        x = F.relu(self.fc1(x))\n",
    "        x = self.fc2(x)\n",
    "        return F.log_softmax(x, dim=-1)"
   ]
  },
  {
   "cell_type": "code",
   "execution_count": 19,
   "metadata": {},
   "outputs": [],
   "source": [
    "from torch import optim"
   ]
  },
  {
   "cell_type": "code",
   "execution_count": 21,
   "metadata": {},
   "outputs": [],
   "source": [
    "from torch.utils.data import DataLoader"
   ]
  },
  {
   "cell_type": "code",
   "execution_count": 22,
   "metadata": {},
   "outputs": [],
   "source": [
    "def plot_loss_curve(nepochs, test_losses, accuracies):\n",
    "    plt.title('MNIST loss curve')\n",
    "    plt.xticks(np.arange(0, nepochs, 1))\n",
    "    plt.plot(range(nepochs), test_losses, 'r--', label='Loss')\n",
    "    plt.plot(range(nepochs), accuracies, 'b', label='Accuracy')\n",
    "    plt.legend()"
   ]
  },
  {
   "cell_type": "code",
   "execution_count": 23,
   "metadata": {},
   "outputs": [],
   "source": [
    "def train_model(model, train_set, test_set, nepochs):\n",
    "    batch_size = 500\n",
    "    # dataloader的作用是帮助得到批量化的训练样本，以及把样本的顺序打乱\n",
    "    train_loader = DataLoader(train_set, batch_size=batch_size, shuffle=True)\n",
    "    test_loader = DataLoader(test_set)\n",
    "    \n",
    "    optimizer = optim.SGD(model.parameters(), lr=0.03, momentum=0.5)\n",
    "    \n",
    "    model.train()\n",
    "    \n",
    "    accuracies = []\n",
    "    test_losses = []\n",
    "    \n",
    "    for epoch in range(nepochs):\n",
    "        model.train()\n",
    "        for batch_idx, (data, target) in enumerate(train_loader):\n",
    "            optimizer.zero_grad() # 清空这个模型在之前保存下来的梯度\n",
    "            output = model(data) # 这个的输出是log softmax\n",
    "            loss = F.nll_loss(output, target) # 负对数似然函数\n",
    "            loss.backward()\n",
    "            optimizer.step()\n",
    "            \n",
    "            print('Train Epoch: {} [{}/{} ({:.0f}%)]\\tLoss: {:.6f}'.format(\n",
    "                epoch, batch_idx * len(data), len(train_loader.dataset),\n",
    "                100. * batch_idx / len(train_loader), float(loss)), end='\\r')\n",
    "\n",
    "        model.eval()\n",
    "        test_loss = 0.0\n",
    "        correct = 0\n",
    "        for data, target in test_loader:\n",
    "            output = model(data)\n",
    "            test_loss += F.nll_loss(output, target, size_average=False).data.item()\n",
    "            \n",
    "            _, pred = torch.max(output.data, 1)\n",
    "            \n",
    "            correct += (pred == target.data).sum()\n",
    "            \n",
    "        test_loss /= len(test_set)\n",
    "        test_losses.append(test_loss)\n",
    "        accuracy = float(correct)/len(test_set)\n",
    "        accuracies.append(accuracy)\n",
    "        print(\"\\nLoss: {:.6f} Accuracy: {:.3f}%\".format(test_loss, 100.0 * accuracy))\n",
    "\n",
    "    plot_loss_curve(nepochs, test_losses, accuracies)"
   ]
  },
  {
   "cell_type": "code",
   "execution_count": 24,
   "metadata": {},
   "outputs": [],
   "source": [
    "model = CNN()"
   ]
  },
  {
   "cell_type": "code",
   "execution_count": 25,
   "metadata": {},
   "outputs": [
    {
     "name": "stdout",
     "output_type": "stream",
     "text": [
      "Train Epoch: 0 [59500/60000 (99%)]\tLoss: 1.909954\n",
      "Loss: 1.870433 Accuracy: 59.330%\n",
      "Train Epoch: 1 [59500/60000 (99%)]\tLoss: 0.359892\n",
      "Loss: 0.314460 Accuracy: 90.740%\n",
      "Train Epoch: 2 [59500/60000 (99%)]\tLoss: 0.304518\n",
      "Loss: 0.226217 Accuracy: 93.180%\n",
      "Train Epoch: 3 [59500/60000 (99%)]\tLoss: 0.182854\n",
      "Loss: 0.161939 Accuracy: 95.270%\n",
      "Train Epoch: 4 [59500/60000 (99%)]\tLoss: 0.137062\n",
      "Loss: 0.127354 Accuracy: 96.300%\n",
      "Train Epoch: 5 [59500/60000 (99%)]\tLoss: 0.133403\n",
      "Loss: 0.117618 Accuracy: 96.570%\n",
      "Train Epoch: 6 [59500/60000 (99%)]\tLoss: 0.195417\n",
      "Loss: 0.104229 Accuracy: 96.800%\n",
      "Train Epoch: 7 [59500/60000 (99%)]\tLoss: 0.097892\n",
      "Loss: 0.096282 Accuracy: 96.980%\n",
      "Train Epoch: 8 [59500/60000 (99%)]\tLoss: 0.095860\n",
      "Loss: 0.082775 Accuracy: 97.470%\n",
      "Train Epoch: 9 [59500/60000 (99%)]\tLoss: 0.074427\n",
      "Loss: 0.074009 Accuracy: 97.710%\n"
     ]
    },
    {
     "data": {
      "image/png": "[encoded data removed]",
      "text/plain": [
       "<Figure size 432x288 with 1 Axes>"
      ]
     },
     "metadata": {},
     "output_type": "display_data"
    }
   ],
   "source": [
    "train_model(model, train_set, test_set, 10)"
   ]
  },
  {
   "cell_type": "code",
   "execution_count": 26,
   "metadata": {},
   "outputs": [
    {
     "data": {
      "image/png": "[encoded data removed]",
      "text/plain": [
       "<Figure size 288x288 with 1 Axes>"
      ]
     },
     "metadata": {},
     "output_type": "display_data"
    }
   ],
   "source": [
    "confusion(model, 10, test_set) # 显示混淆矩阵"
   ]
  },
  {
   "cell_type": "code",
   "execution_count": 27,
   "metadata": {},
   "outputs": [],
   "source": [
    "# 把训练好的模型保存下来\n",
    "torch.save(model.state_dict(), 'mnist.pth')"
   ]
  }
 ],
 "metadata": {
  "kernelspec": {
   "display_name": "Python 3",
   "language": "python",
   "name": "python3"
  },
  "language_info": {
   "codemirror_mode": {
    "name": "ipython",
    "version": 3
   },
   "file_extension": ".py",
   "mimetype": "text/x-python",
   "name": "python",
   "nbconvert_exporter": "python",
   "pygments_lexer": "ipython3",
   "version": "3.6.4"
  }
 },
 "nbformat": 4,
 "nbformat_minor": 2
}
