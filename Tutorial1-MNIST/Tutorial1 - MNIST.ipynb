{
 "cells": [
  {
   "cell_type": "code",
   "execution_count": 1,
   "metadata": {},
   "outputs": [],
   "source": [
    "# Visualize MNIST dataset\n",
    "# Train MNIST\n",
    "# Plot loss curve"
   ]
  },
  {
   "cell_type": "code",
   "execution_count": 2,
   "metadata": {},
   "outputs": [],
   "source": [
    "import torch"
   ]
  },
  {
   "cell_type": "code",
   "execution_count": 3,
   "metadata": {},
   "outputs": [],
   "source": [
    "from torchvision.datasets import MNIST"
   ]
  },
  {
   "cell_type": "code",
   "execution_count": 4,
   "metadata": {},
   "outputs": [],
   "source": [
    "from torchvision import transforms"
   ]
  },
  {
   "cell_type": "code",
   "execution_count": 5,
   "metadata": {},
   "outputs": [],
   "source": [
    "# TODO: talk more about what these compose options do\n",
    "transf = transforms.Compose([transforms.ToTensor(), transforms.Normalize((0.5, ), (1.0, ))])"
   ]
  },
  {
   "cell_type": "code",
   "execution_count": 6,
   "metadata": {},
   "outputs": [],
   "source": [
    "train_set = MNIST(root='./data', train=True, transform=transf, download=False) # load training dataset"
   ]
  },
  {
   "cell_type": "code",
   "execution_count": 7,
   "metadata": {},
   "outputs": [
    {
     "data": {
      "text/plain": [
       "torch.Size([60000, 28, 28])"
      ]
     },
     "execution_count": 7,
     "metadata": {},
     "output_type": "execute_result"
    }
   ],
   "source": [
    "train_set.train_data.shape # see dataset size"
   ]
  },
  {
   "cell_type": "code",
   "execution_count": 8,
   "metadata": {},
   "outputs": [],
   "source": [
    "train_set.train_data[0];"
   ]
  },
  {
   "cell_type": "code",
   "execution_count": 9,
   "metadata": {},
   "outputs": [],
   "source": [
    "# # To visualize the samples in dataset, let's use matplotlib\n",
    "%matplotlib inline\n",
    "import matplotlib.pyplot as plt"
   ]
  },
  {
   "cell_type": "code",
   "execution_count": 10,
   "metadata": {},
   "outputs": [
    {
     "data": {
      "text/plain": [
       "<matplotlib.image.AxesImage at 0x11a154c18>"
      ]
     },
     "execution_count": 10,
     "metadata": {},
     "output_type": "execute_result"
    },
    {
     "data": {
      "image/png": "[encoded data removed]",
      "text/plain": [
       "<Figure size 432x288 with 1 Axes>"
      ]
     },
     "metadata": {},
     "output_type": "display_data"
    }
   ],
   "source": [
    "train_set.train_data[0].shape\n",
    "plt.imshow(train_set.train_data[0], cmap='gray')\n"
   ]
  },
  {
   "cell_type": "code",
   "execution_count": 11,
   "metadata": {},
   "outputs": [
    {
     "data": {
      "text/plain": [
       "tensor(5)"
      ]
     },
     "execution_count": 11,
     "metadata": {},
     "output_type": "execute_result"
    }
   ],
   "source": [
    "train_set.train_labels[0]"
   ]
  },
  {
   "cell_type": "code",
   "execution_count": 12,
   "metadata": {},
   "outputs": [],
   "source": [
    "test_set = MNIST(root='./data', train=False, transform=transf, download=True) # load training dataset"
   ]
  },
  {
   "cell_type": "code",
   "execution_count": 13,
   "metadata": {},
   "outputs": [],
   "source": [
    "from torchvision.utils import make_grid # Combine images into a nice-looking grid layout"
   ]
  },
  {
   "cell_type": "code",
   "execution_count": 14,
   "metadata": {},
   "outputs": [],
   "source": [
    "# Before we train the model, let's define the method for plotting the loss curve\n",
    "import numpy as np"
   ]
  },
  {
   "cell_type": "code",
   "execution_count": 15,
   "metadata": {},
   "outputs": [
    {
     "name": "stdout",
     "output_type": "stream",
     "text": [
      "torch.Size([60000, 28, 28])\n",
      "torch.Size([60000, 1, 28, 28])\n"
     ]
    }
   ],
   "source": [
    "# first 10 samples combined together\n",
    "# MNIST dataset doesn't have channel dimension, so we use unsqueeze to manually add it\n",
    "def show(img):\n",
    "    plt.imshow(np.transpose(img.numpy(), (1, 2, 0)), interpolation='nearest')\n",
    "    plt.axis('off')\n",
    "    plt.show()\n",
    "    \n",
    "print(train_set.train_data.shape)\n",
    "print(train_set.train_data.unsqueeze(1).shape)\n",
    "combined_image = make_grid(train_set.train_data[:10].unsqueeze(1))"
   ]
  },
  {
   "cell_type": "code",
   "execution_count": 16,
   "metadata": {},
   "outputs": [
    {
     "data": {
      "image/png": "[encoded data removed]",
      "text/plain": [
       "<Figure size 432x288 with 1 Axes>"
      ]
     },
     "metadata": {},
     "output_type": "display_data"
    }
   ],
   "source": [
    "show(combined_image)"
   ]
  },
  {
   "cell_type": "code",
   "execution_count": 17,
   "metadata": {},
   "outputs": [],
   "source": [
    "# Better way to visualize how good our model does\n",
    "# For each target value (0-9), see how often our model gets it right\n",
    "def confusion(model, n, dataset):\n",
    "    conf = torch.zeros(n, n)\n",
    "    model.eval() # Put model in evaluation mode\n",
    "    for data, target in dataset:\n",
    "        data = data.unsqueeze(1)\n",
    "        output = model(data)\n",
    "        _, pred = torch.max(output.data, 1)\n",
    "        conf[target][pred[0]] += 1\n",
    "        \n",
    "    # Normalize\n",
    "    for i in range(n):\n",
    "        conf[i] = conf[i] / conf[i].sum()\n",
    "        \n",
    "    plt.matshow(conf.numpy(), cmap='gray')\n",
    "    plt.show()\n",
    "    \n",
    "# A perfect model should show a diagonal white line"
   ]
  },
  {
   "cell_type": "code",
   "execution_count": 18,
   "metadata": {},
   "outputs": [],
   "source": [
    "import torch.nn as nn\n",
    "import torch.nn.functional as F"
   ]
  },
  {
   "cell_type": "code",
   "execution_count": 19,
   "metadata": {},
   "outputs": [],
   "source": [
    "# Define our own CNN\n",
    "class CNN(nn.Module):\n",
    "    def __init__(self):\n",
    "        super(CNN, self).__init__()\n",
    "        self.conv1 = nn.Conv2d(1, 10, kernel_size=5)\n",
    "        self.conv2 = nn.Conv2d(10, 20, kernel_size=5)\n",
    "        self.fc1 = nn.Linear(20 * 4 * 4, 50)\n",
    "        self.fc2 = nn.Linear(50, 10)\n",
    "        \n",
    "    def forward(self, x):\n",
    "        # we can also use functional interface for Conv2d and pass in the weights and biases, useful in weight sharing scenario\n",
    "        x = F.relu(F.max_pool2d(self.conv1(x), 2))\n",
    "        x = F.relu(F.max_pool2d(self.conv2(x), 2))\n",
    "        x = x.view(-1, 20 * 4 * 4) # -1 means we only care about the size of the last dimension, and just merge the rest of the dimensions into one\n",
    "        x = F.relu(self.fc1(x))\n",
    "        x = self.fc2(x)\n",
    "        return F.log_softmax(x, dim=-1)"
   ]
  },
  {
   "cell_type": "code",
   "execution_count": 20,
   "metadata": {},
   "outputs": [],
   "source": [
    "from torch import optim"
   ]
  },
  {
   "cell_type": "code",
   "execution_count": 21,
   "metadata": {},
   "outputs": [],
   "source": [
    "from torch.optim import lr_scheduler"
   ]
  },
  {
   "cell_type": "code",
   "execution_count": 22,
   "metadata": {},
   "outputs": [],
   "source": [
    "from torch.utils.data import TensorDataset, DataLoader"
   ]
  },
  {
   "cell_type": "code",
   "execution_count": 23,
   "metadata": {},
   "outputs": [],
   "source": [
    "def plot_loss_curve(nepochs, test_losses, accuracies):\n",
    "    plt.title('MNIST loss curve')\n",
    "    plt.xticks(np.arange(0, nepochs, 1))\n",
    "#     plt.yticks(np.arange(0, 2, 1))\n",
    "    plt.plot(range(nepochs), test_losses, 'r--', label='Loss')\n",
    "    plt.plot(range(nepochs), accuracies, 'b', label='Accuracy')\n",
    "    plt.legend()"
   ]
  },
  {
   "cell_type": "code",
   "execution_count": 24,
   "metadata": {},
   "outputs": [],
   "source": [
    "def train_model(model, train_set, test_set, nepochs):\n",
    "    batch_size = 500\n",
    "    # dataloader can help you get batched data and shuffle the data\n",
    "    train_loader = DataLoader(train_set, batch_size=batch_size, shuffle=True)\n",
    "    test_loader = DataLoader(test_set)\n",
    "    \n",
    "    optimizer = optim.SGD(model.parameters(), lr=0.03, momentum=0.5)\n",
    "    \n",
    "    model.train()\n",
    "    \n",
    "    accuracies = []\n",
    "    test_losses = []\n",
    "    \n",
    "    for epoch in range(nepochs):\n",
    "        model.train()\n",
    "        for batch_idx, (data, target) in enumerate(train_loader):\n",
    "            optimizer.zero_grad() # This will zero out all the gradients for the model's parameters\n",
    "            output = model(data) # This is a softmax output over the possible labels\n",
    "            loss = F.nll_loss(output, target)\n",
    "            loss.backward()\n",
    "            optimizer.step()\n",
    "            \n",
    "            if batch_idx % 50 == 0:\n",
    "                print('Train Epoch: {} [{}/{} ({:.0f}%)]\\tLoss: {:.6f}'.format(\n",
    "                    epoch, batch_idx * len(data), len(train_loader.dataset),\n",
    "                    100. * batch_idx / len(train_loader), float(loss)))\n",
    "\n",
    "        model.eval()\n",
    "        test_loss = 0.0\n",
    "        correct = 0\n",
    "        for data, target in test_loader:\n",
    "            output = model(data)\n",
    "            test_loss += F.nll_loss(output, target, size_average=False).data.item()\n",
    "            \n",
    "            _, pred = torch.max(output.data, 1)\n",
    "            \n",
    "            correct += (pred == target.data).sum()\n",
    "            \n",
    "        test_loss /= len(test_set)\n",
    "        test_losses.append(test_loss)\n",
    "        accuracy = float(correct)/len(test_set)\n",
    "        accuracies.append(accuracy)\n",
    "        print(\"Loss: {:.6f}\".format(test_loss), \"Accuracy: \", accuracy)\n",
    "\n",
    "    plot_loss_curve(nepochs, test_losses, accuracies)"
   ]
  },
  {
   "cell_type": "code",
   "execution_count": 25,
   "metadata": {},
   "outputs": [],
   "source": [
    "model = CNN()"
   ]
  },
  {
   "cell_type": "code",
   "execution_count": 26,
   "metadata": {},
   "outputs": [
    {
     "name": "stdout",
     "output_type": "stream",
     "text": [
      "Train Epoch: 0 [0/60000 (0%)]\tLoss: 2.306535\n",
      "Train Epoch: 0 [25000/60000 (42%)]\tLoss: 2.237737\n",
      "Train Epoch: 0 [50000/60000 (83%)]\tLoss: 1.449612\n",
      "Loss: 0.921957 Accuracy:  0.7495\n",
      "Train Epoch: 1 [0/60000 (0%)]\tLoss: 0.886216\n",
      "Train Epoch: 1 [25000/60000 (42%)]\tLoss: 0.463027\n",
      "Train Epoch: 1 [50000/60000 (83%)]\tLoss: 0.350336\n",
      "Loss: 0.265373 Accuracy:  0.9199\n",
      "Train Epoch: 2 [0/60000 (0%)]\tLoss: 0.316350\n",
      "Train Epoch: 2 [25000/60000 (42%)]\tLoss: 0.271002\n",
      "Train Epoch: 2 [50000/60000 (83%)]\tLoss: 0.188655\n",
      "Loss: 0.164948 Accuracy:  0.9514\n",
      "Train Epoch: 3 [0/60000 (0%)]\tLoss: 0.211551\n",
      "Train Epoch: 3 [25000/60000 (42%)]\tLoss: 0.167583\n",
      "Train Epoch: 3 [50000/60000 (83%)]\tLoss: 0.148204\n",
      "Loss: 0.138361 Accuracy:  0.9587\n",
      "Train Epoch: 4 [0/60000 (0%)]\tLoss: 0.156069\n",
      "Train Epoch: 4 [25000/60000 (42%)]\tLoss: 0.146461\n",
      "Train Epoch: 4 [50000/60000 (83%)]\tLoss: 0.107918\n",
      "Loss: 0.111272 Accuracy:  0.9657\n",
      "Train Epoch: 5 [0/60000 (0%)]\tLoss: 0.097630\n",
      "Train Epoch: 5 [25000/60000 (42%)]\tLoss: 0.099458\n",
      "Train Epoch: 5 [50000/60000 (83%)]\tLoss: 0.075497\n",
      "Loss: 0.098580 Accuracy:  0.9703\n",
      "Train Epoch: 6 [0/60000 (0%)]\tLoss: 0.098372\n",
      "Train Epoch: 6 [25000/60000 (42%)]\tLoss: 0.093237\n",
      "Train Epoch: 6 [50000/60000 (83%)]\tLoss: 0.123393\n",
      "Loss: 0.100822 Accuracy:  0.9687\n",
      "Train Epoch: 7 [0/60000 (0%)]\tLoss: 0.083906\n",
      "Train Epoch: 7 [25000/60000 (42%)]\tLoss: 0.089875\n",
      "Train Epoch: 7 [50000/60000 (83%)]\tLoss: 0.119657\n",
      "Loss: 0.087349 Accuracy:  0.9743\n",
      "Train Epoch: 8 [0/60000 (0%)]\tLoss: 0.136042\n",
      "Train Epoch: 8 [25000/60000 (42%)]\tLoss: 0.064374\n",
      "Train Epoch: 8 [50000/60000 (83%)]\tLoss: 0.103596\n",
      "Loss: 0.079882 Accuracy:  0.976\n",
      "Train Epoch: 9 [0/60000 (0%)]\tLoss: 0.105881\n",
      "Train Epoch: 9 [25000/60000 (42%)]\tLoss: 0.115256\n",
      "Train Epoch: 9 [50000/60000 (83%)]\tLoss: 0.078613\n",
      "Loss: 0.074530 Accuracy:  0.978\n"
     ]
    },
    {
     "data": {
      "image/png": "[encoded data removed]",
      "text/plain": [
       "<Figure size 432x288 with 1 Axes>"
      ]
     },
     "metadata": {},
     "output_type": "display_data"
    }
   ],
   "source": [
    "train_model(model, train_set, test_set, 10)"
   ]
  },
  {
   "cell_type": "code",
   "execution_count": 27,
   "metadata": {},
   "outputs": [
    {
     "data": {
      "image/png": "[encoded data removed]",
      "text/plain": [
       "<Figure size 288x288 with 1 Axes>"
      ]
     },
     "metadata": {},
     "output_type": "display_data"
    }
   ],
   "source": [
    "confusion(model, 10, test_set) # See confusion matrix"
   ]
  },
  {
   "cell_type": "code",
   "execution_count": 28,
   "metadata": {},
   "outputs": [],
   "source": [
    "# Save model state as checkpoint, to be used later\n",
    "torch.save(model.state_dict(), 'mnist.pth')\n",
    "\n",
    "# Load model into another variable\n",
    "new_model = CNN()\n",
    "new_model.load_state_dict(torch.load('mnist.pth'))"
   ]
  },
  {
   "cell_type": "code",
   "execution_count": 29,
   "metadata": {},
   "outputs": [
    {
     "data": {
      "text/plain": [
       "CNN(\n",
       "  (conv1): Conv2d(1, 10, kernel_size=(5, 5), stride=(1, 1))\n",
       "  (conv2): Conv2d(10, 20, kernel_size=(5, 5), stride=(1, 1))\n",
       "  (fc1): Linear(in_features=320, out_features=50, bias=True)\n",
       "  (fc2): Linear(in_features=50, out_features=10, bias=True)\n",
       ")"
      ]
     },
     "execution_count": 29,
     "metadata": {},
     "output_type": "execute_result"
    }
   ],
   "source": [
    "new_model"
   ]
  },
  {
   "cell_type": "code",
   "execution_count": 30,
   "metadata": {},
   "outputs": [
    {
     "data": {
      "text/plain": [
       "CNN(\n",
       "  (conv1): Conv2d(1, 10, kernel_size=(5, 5), stride=(1, 1))\n",
       "  (conv2): Conv2d(10, 20, kernel_size=(5, 5), stride=(1, 1))\n",
       "  (fc1): Linear(in_features=320, out_features=50, bias=True)\n",
       "  (fc2): Linear(in_features=50, out_features=10, bias=True)\n",
       ")"
      ]
     },
     "execution_count": 30,
     "metadata": {},
     "output_type": "execute_result"
    }
   ],
   "source": [
    "new_model"
   ]
  },
  {
   "cell_type": "code",
   "execution_count": 31,
   "metadata": {
    "scrolled": true
   },
   "outputs": [
    {
     "data": {
      "text/plain": [
       "CNN(\n",
       "  (conv1): Conv2d(1, 10, kernel_size=(5, 5), stride=(1, 1))\n",
       "  (conv2): Conv2d(10, 20, kernel_size=(5, 5), stride=(1, 1))\n",
       "  (fc1): Linear(in_features=320, out_features=50, bias=True)\n",
       "  (fc2): Linear(in_features=50, out_features=10, bias=True)\n",
       ")"
      ]
     },
     "execution_count": 31,
     "metadata": {},
     "output_type": "execute_result"
    }
   ],
   "source": [
    "model"
   ]
  },
  {
   "cell_type": "code",
   "execution_count": 32,
   "metadata": {},
   "outputs": [],
   "source": [
    "# TODO: for transfer learning, make sure the two linear layers are replaced"
   ]
  }
 ],
 "metadata": {
  "kernelspec": {
   "display_name": "Python 3",
   "language": "python",
   "name": "python3"
  },
  "language_info": {
   "codemirror_mode": {
    "name": "ipython",
    "version": 3
   },
   "file_extension": ".py",
   "mimetype": "text/x-python",
   "name": "python",
   "nbconvert_exporter": "python",
   "pygments_lexer": "ipython3",
   "version": "3.6.4"
  }
 },
 "nbformat": 4,
 "nbformat_minor": 2
}
