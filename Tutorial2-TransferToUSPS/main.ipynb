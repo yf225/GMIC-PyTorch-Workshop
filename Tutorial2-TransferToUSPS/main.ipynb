{
 "cells": [
  {
   "cell_type": "markdown",
   "metadata": {},
   "source": [
    "# Tutorial 2: Transfer learning from MNIST to USPS!"
   ]
  },
  {
   "cell_type": "markdown",
   "metadata": {},
   "source": [
    "First, we import the necessary modules"
   ]
  },
  {
   "cell_type": "code",
   "execution_count": 1,
   "metadata": {},
   "outputs": [],
   "source": [
    "from __future__ import print_function\n",
    "import argparse\n",
    "import torch\n",
    "import torch.nn as nn\n",
    "import torch.nn.functional as F\n",
    "import torch.optim as optim\n",
    "from torchvision import datasets, transforms\n",
    "import sys\n",
    "from dataset.usps import USPS\n",
    "import numpy as np\n",
    "import matplotlib.pyplot as plt"
   ]
  },
  {
   "cell_type": "markdown",
   "metadata": {},
   "source": [
    "Set up argument parser for command line arguments"
   ]
  },
  {
   "cell_type": "code",
   "execution_count": 2,
   "metadata": {},
   "outputs": [],
   "source": [
    "# Parameters\n",
    "epochs = 10 # number of epochs to train (default: 10)\n",
    "fine_tuning_on_mnist = 'last-layer' # 'last-layer' / 'all-layers'\n",
    "mnist_pretrained_model = 'mnist_models/mnist.pth' # path to MNIST pretrained model\n"
   ]
  },
  {
   "cell_type": "markdown",
   "metadata": {},
   "source": [
    "Set up Visdom (for visualizing loss curve)"
   ]
  },
  {
   "cell_type": "code",
   "execution_count": 3,
   "metadata": {},
   "outputs": [],
   "source": [
    "\n",
    "\n",
    "def plot_loss_curve(nepochs, test_losses, accuracies):\n",
    "    plt.title('USPS loss curve, fine tune: ' + fine_tuning_on_mnist)\n",
    "    plt.xticks(np.arange(0, nepochs, 1))\n",
    "    plt.plot(range(nepochs), test_losses, 'r--', label='Loss')\n",
    "    plt.plot(range(nepochs), accuracies, 'b', label='Accuracy')\n",
    "    plt.legend()\n",
    "\n"
   ]
  },
  {
   "cell_type": "markdown",
   "metadata": {},
   "source": [
    "Define model structure"
   ]
  },
  {
   "cell_type": "code",
   "execution_count": 4,
   "metadata": {},
   "outputs": [],
   "source": [
    "class MNISTNet(nn.Module):\n",
    "    def __init__(self):\n",
    "        super(MNISTNet, self).__init__()\n",
    "        self.conv1 = nn.Conv2d(1, 10, kernel_size=5)\n",
    "        self.conv2 = nn.Conv2d(10, 20, kernel_size=5)\n",
    "        self.conv2_drop = nn.Dropout2d()\n",
    "        self.fc1 = nn.Linear(320, 50)\n",
    "        self.fc2 = nn.Linear(50, 10)\n",
    "\n",
    "    def forward(self, x):\n",
    "        x = F.relu(F.max_pool2d(self.conv1(x), 2))\n",
    "        x = F.relu(F.max_pool2d(self.conv2_drop(self.conv2(x)), 2))\n",
    "        x = x.view(-1, 320)\n",
    "        x = F.relu(self.fc1(x))\n",
    "        x = F.dropout(x, training=self.training)\n",
    "        x = self.fc2(x)\n",
    "        return F.log_softmax(x, dim=1)"
   ]
  },
  {
   "cell_type": "markdown",
   "metadata": {},
   "source": [
    "Set up model and optimizer. Decide which fine-tuning method to use\n",
    "(no tuning / tuning only last layer / tuning all layers) for transfer\n",
    "learning from MNIST model."
   ]
  },
  {
   "cell_type": "code",
   "execution_count": 5,
   "metadata": {},
   "outputs": [],
   "source": [
    "model = MNISTNet()\n",
    "\n",
    "layers_to_tune = model\n",
    "\n",
    "if fine_tuning_on_mnist in ['last-layer', 'all-layers']:\n",
    "    pretrained_model_path = mnist_pretrained_model\n",
    "    model.load_state_dict(torch.load(pretrained_model_path))\n",
    "\n",
    "    if fine_tuning_on_mnist == 'last-layer':\n",
    "        # Replace the last layer with a new uninitiated one, and only tune the parameters for this layer\n",
    "        model.fc2 = nn.Linear(50, 10)\n",
    "        layers_to_tune = model.fc2\n",
    "\n",
    "optimizer = optim.SGD(layers_to_tune.parameters(), lr=0.01, momentum=0.5)"
   ]
  },
  {
   "cell_type": "markdown",
   "metadata": {},
   "source": [
    "Load train and test data"
   ]
  },
  {
   "cell_type": "code",
   "execution_count": 6,
   "metadata": {},
   "outputs": [],
   "source": [
    "pre_process = transforms.Compose([transforms.ToTensor(),\n",
    "                                  transforms.Normalize(\n",
    "                                  mean=(0.5, 0.5, 0.5),\n",
    "                                  std=(0.5, 0.5, 0.5))])\n",
    "\n",
    "usps_dataset_train = USPS(root=\"data\",\n",
    "                    train=True,\n",
    "                    transform=pre_process,\n",
    "                    download=True)\n",
    "\n",
    "train_loader = torch.utils.data.DataLoader(\n",
    "                    dataset=usps_dataset_train,\n",
    "                    batch_size=64,\n",
    "                    shuffle=True)\n",
    "\n",
    "usps_dataset_test = USPS(root=\"data\",\n",
    "                    train=False,\n",
    "                    transform=pre_process,\n",
    "                    download=True)\n",
    "\n",
    "test_loader = torch.utils.data.DataLoader(\n",
    "                    dataset=usps_dataset_test,\n",
    "                    batch_size=1000,\n",
    "                    shuffle=True)"
   ]
  },
  {
   "cell_type": "markdown",
   "metadata": {},
   "source": [
    "Method for training the model"
   ]
  },
  {
   "cell_type": "code",
   "execution_count": 7,
   "metadata": {},
   "outputs": [],
   "source": [
    "def train(epoch):\n",
    "    model.train()\n",
    "    num_batches = 0\n",
    "    for batch_idx, (data, target) in enumerate(train_loader):\n",
    "        target = target.reshape(-1)\n",
    "        optimizer.zero_grad()\n",
    "        output = model(data)\n",
    "        loss = F.nll_loss(output, target)\n",
    "        loss.backward()\n",
    "        optimizer.step()\n",
    "        if batch_idx % 10 == 0:\n",
    "            print('Train Epoch: {} [{}/{} ({:.0f}%)]\\tLoss: {:.6f}'.format(\n",
    "                epoch, batch_idx * len(data), len(train_loader.dataset),\n",
    "                100. * batch_idx / len(train_loader), float(loss)))\n",
    "        num_batches += 1\n",
    "    torch.save(model.state_dict(), 'checkpoints/usps_%s.pth' % (epoch, ))"
   ]
  },
  {
   "cell_type": "markdown",
   "metadata": {},
   "source": [
    "Method for testing the model"
   ]
  },
  {
   "cell_type": "code",
   "execution_count": 8,
   "metadata": {},
   "outputs": [],
   "source": [
    "def test(epoch):\n",
    "    model.eval()\n",
    "    test_loss = 0\n",
    "    correct = 0\n",
    "    for data, target in test_loader:\n",
    "        target = target.reshape(-1)\n",
    "        with torch.no_grad():\n",
    "            output = model(data)\n",
    "            test_loss += float(F.nll_loss(output, target, size_average=False)) # sum up batch loss\n",
    "            pred = output.data.max(1, keepdim=True)[1] # get the index of the max log-probability\n",
    "            correct += int(pred.eq(target.data.view_as(pred)).cpu().long().sum())\n",
    "\n",
    "    test_loss /= len(test_loader.dataset)\n",
    "    accuracy = correct * 1.0 / len(test_loader.dataset)\n",
    "    print('\\nTest set: Average loss: {:.4f}, Accuracy: {}/{} ({:.0f}%)\\n'.format(\n",
    "        test_loss, correct, len(test_loader.dataset),\n",
    "        100. * accuracy))\n",
    "    \n",
    "    return test_loss, accuracy"
   ]
  },
  {
   "cell_type": "markdown",
   "metadata": {},
   "source": [
    "Train and test the model for a few epochs"
   ]
  },
  {
   "cell_type": "code",
   "execution_count": 9,
   "metadata": {},
   "outputs": [
    {
     "name": "stdout",
     "output_type": "stream",
     "text": [
      "Train Epoch: 1 [0/7438 (0%)]\tLoss: 6.503110\n",
      "Train Epoch: 1 [640/7438 (9%)]\tLoss: 2.629877\n",
      "Train Epoch: 1 [1280/7438 (17%)]\tLoss: 2.074764\n",
      "Train Epoch: 1 [1920/7438 (26%)]\tLoss: 1.712783\n",
      "Train Epoch: 1 [2560/7438 (34%)]\tLoss: 1.688060\n",
      "Train Epoch: 1 [3200/7438 (43%)]\tLoss: 1.178249\n",
      "Train Epoch: 1 [3840/7438 (51%)]\tLoss: 1.222356\n",
      "Train Epoch: 1 [4480/7438 (60%)]\tLoss: 1.377424\n",
      "Train Epoch: 1 [5120/7438 (68%)]\tLoss: 1.552507\n",
      "Train Epoch: 1 [5760/7438 (77%)]\tLoss: 1.503023\n",
      "Train Epoch: 1 [6400/7438 (85%)]\tLoss: 1.269178\n",
      "Train Epoch: 1 [7040/7438 (94%)]\tLoss: 1.259289\n",
      "\n",
      "Test set: Average loss: 0.7729, Accuracy: 1337/1860 (72%)\n",
      "\n",
      "Train Epoch: 2 [0/7438 (0%)]\tLoss: 1.408105\n",
      "Train Epoch: 2 [640/7438 (9%)]\tLoss: 1.299244\n",
      "Train Epoch: 2 [1280/7438 (17%)]\tLoss: 1.467557\n",
      "Train Epoch: 2 [1920/7438 (26%)]\tLoss: 1.590887\n",
      "Train Epoch: 2 [2560/7438 (34%)]\tLoss: 1.560398\n",
      "Train Epoch: 2 [3200/7438 (43%)]\tLoss: 1.524149\n",
      "Train Epoch: 2 [3840/7438 (51%)]\tLoss: 1.327941\n",
      "Train Epoch: 2 [4480/7438 (60%)]\tLoss: 1.354106\n",
      "Train Epoch: 2 [5120/7438 (68%)]\tLoss: 1.414792\n",
      "Train Epoch: 2 [5760/7438 (77%)]\tLoss: 1.244431\n",
      "Train Epoch: 2 [6400/7438 (85%)]\tLoss: 1.530931\n",
      "Train Epoch: 2 [7040/7438 (94%)]\tLoss: 1.426554\n",
      "\n",
      "Test set: Average loss: 0.5529, Accuracy: 1589/1860 (85%)\n",
      "\n",
      "Train Epoch: 3 [0/7438 (0%)]\tLoss: 1.616994\n",
      "Train Epoch: 3 [640/7438 (9%)]\tLoss: 1.297158\n",
      "Train Epoch: 3 [1280/7438 (17%)]\tLoss: 1.265336\n",
      "Train Epoch: 3 [1920/7438 (26%)]\tLoss: 1.437200\n",
      "Train Epoch: 3 [2560/7438 (34%)]\tLoss: 1.911797\n",
      "Train Epoch: 3 [3200/7438 (43%)]\tLoss: 1.464028\n",
      "Train Epoch: 3 [3840/7438 (51%)]\tLoss: 1.495153\n",
      "Train Epoch: 3 [4480/7438 (60%)]\tLoss: 1.520006\n",
      "Train Epoch: 3 [5120/7438 (68%)]\tLoss: 1.560628\n",
      "Train Epoch: 3 [5760/7438 (77%)]\tLoss: 1.693801\n",
      "Train Epoch: 3 [6400/7438 (85%)]\tLoss: 1.597292\n",
      "Train Epoch: 3 [7040/7438 (94%)]\tLoss: 1.399827\n",
      "\n",
      "Test set: Average loss: 0.6588, Accuracy: 1525/1860 (82%)\n",
      "\n",
      "Train Epoch: 4 [0/7438 (0%)]\tLoss: 1.770290\n",
      "Train Epoch: 4 [640/7438 (9%)]\tLoss: 1.356344\n",
      "Train Epoch: 4 [1280/7438 (17%)]\tLoss: 1.369795\n",
      "Train Epoch: 4 [1920/7438 (26%)]\tLoss: 1.286319\n",
      "Train Epoch: 4 [2560/7438 (34%)]\tLoss: 1.059481\n",
      "Train Epoch: 4 [3200/7438 (43%)]\tLoss: 1.198762\n",
      "Train Epoch: 4 [3840/7438 (51%)]\tLoss: 1.470439\n",
      "Train Epoch: 4 [4480/7438 (60%)]\tLoss: 1.622237\n",
      "Train Epoch: 4 [5120/7438 (68%)]\tLoss: 1.330325\n",
      "Train Epoch: 4 [5760/7438 (77%)]\tLoss: 1.690808\n",
      "Train Epoch: 4 [6400/7438 (85%)]\tLoss: 1.350497\n",
      "Train Epoch: 4 [7040/7438 (94%)]\tLoss: 1.139049\n",
      "\n",
      "Test set: Average loss: 0.5786, Accuracy: 1664/1860 (89%)\n",
      "\n",
      "Train Epoch: 5 [0/7438 (0%)]\tLoss: 1.177897\n",
      "Train Epoch: 5 [640/7438 (9%)]\tLoss: 1.479446\n",
      "Train Epoch: 5 [1280/7438 (17%)]\tLoss: 1.313605\n",
      "Train Epoch: 5 [1920/7438 (26%)]\tLoss: 1.144159\n",
      "Train Epoch: 5 [2560/7438 (34%)]\tLoss: 1.341927\n",
      "Train Epoch: 5 [3200/7438 (43%)]\tLoss: 1.233305\n",
      "Train Epoch: 5 [3840/7438 (51%)]\tLoss: 1.358893\n",
      "Train Epoch: 5 [4480/7438 (60%)]\tLoss: 1.358900\n",
      "Train Epoch: 5 [5120/7438 (68%)]\tLoss: 1.349113\n",
      "Train Epoch: 5 [5760/7438 (77%)]\tLoss: 1.640978\n",
      "Train Epoch: 5 [6400/7438 (85%)]\tLoss: 1.031022\n",
      "Train Epoch: 5 [7040/7438 (94%)]\tLoss: 1.464836\n",
      "\n",
      "Test set: Average loss: 0.5488, Accuracy: 1651/1860 (89%)\n",
      "\n",
      "Train Epoch: 6 [0/7438 (0%)]\tLoss: 1.417575\n",
      "Train Epoch: 6 [640/7438 (9%)]\tLoss: 1.225218\n",
      "Train Epoch: 6 [1280/7438 (17%)]\tLoss: 1.259266\n",
      "Train Epoch: 6 [1920/7438 (26%)]\tLoss: 1.355640\n",
      "Train Epoch: 6 [2560/7438 (34%)]\tLoss: 1.222104\n",
      "Train Epoch: 6 [3200/7438 (43%)]\tLoss: 1.462754\n",
      "Train Epoch: 6 [3840/7438 (51%)]\tLoss: 1.346871\n",
      "Train Epoch: 6 [4480/7438 (60%)]\tLoss: 1.203622\n",
      "Train Epoch: 6 [5120/7438 (68%)]\tLoss: 1.407512\n",
      "Train Epoch: 6 [5760/7438 (77%)]\tLoss: 1.318144\n",
      "Train Epoch: 6 [6400/7438 (85%)]\tLoss: 1.801034\n",
      "Train Epoch: 6 [7040/7438 (94%)]\tLoss: 1.255300\n",
      "\n",
      "Test set: Average loss: 0.5966, Accuracy: 1517/1860 (82%)\n",
      "\n",
      "Train Epoch: 7 [0/7438 (0%)]\tLoss: 1.538530\n",
      "Train Epoch: 7 [640/7438 (9%)]\tLoss: 1.245615\n",
      "Train Epoch: 7 [1280/7438 (17%)]\tLoss: 1.365571\n",
      "Train Epoch: 7 [1920/7438 (26%)]\tLoss: 1.290623\n",
      "Train Epoch: 7 [2560/7438 (34%)]\tLoss: 1.492628\n",
      "Train Epoch: 7 [3200/7438 (43%)]\tLoss: 1.220913\n",
      "Train Epoch: 7 [3840/7438 (51%)]\tLoss: 1.158978\n",
      "Train Epoch: 7 [4480/7438 (60%)]\tLoss: 1.589913\n",
      "Train Epoch: 7 [5120/7438 (68%)]\tLoss: 1.418942\n",
      "Train Epoch: 7 [5760/7438 (77%)]\tLoss: 1.164939\n",
      "Train Epoch: 7 [6400/7438 (85%)]\tLoss: 1.626876\n",
      "Train Epoch: 7 [7040/7438 (94%)]\tLoss: 1.426850\n",
      "\n",
      "Test set: Average loss: 0.5753, Accuracy: 1582/1860 (85%)\n",
      "\n",
      "Train Epoch: 8 [0/7438 (0%)]\tLoss: 1.483880\n",
      "Train Epoch: 8 [640/7438 (9%)]\tLoss: 1.215184\n",
      "Train Epoch: 8 [1280/7438 (17%)]\tLoss: 1.477132\n",
      "Train Epoch: 8 [1920/7438 (26%)]\tLoss: 1.189003\n",
      "Train Epoch: 8 [2560/7438 (34%)]\tLoss: 1.458251\n",
      "Train Epoch: 8 [3200/7438 (43%)]\tLoss: 1.421819\n",
      "Train Epoch: 8 [3840/7438 (51%)]\tLoss: 1.172070\n",
      "Train Epoch: 8 [4480/7438 (60%)]\tLoss: 1.301666\n",
      "Train Epoch: 8 [5120/7438 (68%)]\tLoss: 1.211818\n",
      "Train Epoch: 8 [5760/7438 (77%)]\tLoss: 1.201793\n",
      "Train Epoch: 8 [6400/7438 (85%)]\tLoss: 1.234781\n",
      "Train Epoch: 8 [7040/7438 (94%)]\tLoss: 1.650023\n",
      "\n",
      "Test set: Average loss: 0.6111, Accuracy: 1566/1860 (84%)\n",
      "\n",
      "Train Epoch: 9 [0/7438 (0%)]\tLoss: 1.471711\n",
      "Train Epoch: 9 [640/7438 (9%)]\tLoss: 1.316352\n",
      "Train Epoch: 9 [1280/7438 (17%)]\tLoss: 1.282418\n",
      "Train Epoch: 9 [1920/7438 (26%)]\tLoss: 1.052399\n",
      "Train Epoch: 9 [2560/7438 (34%)]\tLoss: 1.324276\n",
      "Train Epoch: 9 [3200/7438 (43%)]\tLoss: 1.478274\n",
      "Train Epoch: 9 [3840/7438 (51%)]\tLoss: 0.898180\n",
      "Train Epoch: 9 [4480/7438 (60%)]\tLoss: 1.277867\n",
      "Train Epoch: 9 [5120/7438 (68%)]\tLoss: 1.174176\n",
      "Train Epoch: 9 [5760/7438 (77%)]\tLoss: 1.193290\n",
      "Train Epoch: 9 [6400/7438 (85%)]\tLoss: 1.497818\n",
      "Train Epoch: 9 [7040/7438 (94%)]\tLoss: 1.371126\n",
      "\n",
      "Test set: Average loss: 0.5799, Accuracy: 1550/1860 (83%)\n",
      "\n",
      "Train Epoch: 10 [0/7438 (0%)]\tLoss: 1.520774\n",
      "Train Epoch: 10 [640/7438 (9%)]\tLoss: 1.138570\n",
      "Train Epoch: 10 [1280/7438 (17%)]\tLoss: 1.376850\n",
      "Train Epoch: 10 [1920/7438 (26%)]\tLoss: 1.203226\n",
      "Train Epoch: 10 [2560/7438 (34%)]\tLoss: 1.594894\n",
      "Train Epoch: 10 [3200/7438 (43%)]\tLoss: 1.548491\n",
      "Train Epoch: 10 [3840/7438 (51%)]\tLoss: 1.072895\n",
      "Train Epoch: 10 [4480/7438 (60%)]\tLoss: 1.647380\n",
      "Train Epoch: 10 [5120/7438 (68%)]\tLoss: 1.377047\n",
      "Train Epoch: 10 [5760/7438 (77%)]\tLoss: 1.559484\n",
      "Train Epoch: 10 [6400/7438 (85%)]\tLoss: 1.263420\n",
      "Train Epoch: 10 [7040/7438 (94%)]\tLoss: 1.435562\n",
      "\n",
      "Test set: Average loss: 0.5181, Accuracy: 1654/1860 (89%)\n",
      "\n"
     ]
    },
    {
     "data": {
      "image/png": "[encoded data removed]",
      "text/plain": [
       "<Figure size 432x288 with 1 Axes>"
      ]
     },
     "metadata": {},
     "output_type": "display_data"
    }
   ],
   "source": [
    "test_losses = []\n",
    "accuracies = []\n",
    "for epoch in range(1, epochs + 1):\n",
    "    train(epoch)\n",
    "    test_loss, accuracy = test(epoch)\n",
    "    test_losses.append(test_loss)\n",
    "    accuracies.append(accuracy)\n",
    "    \n",
    "plot_loss_curve(epoch, test_losses, accuracies)"
   ]
  },
  {
   "cell_type": "markdown",
   "metadata": {},
   "source": [
    "To run this example, do the following (also open http://localhost:8097/ to visualize the loss curve):"
   ]
  },
  {
   "cell_type": "raw",
   "metadata": {},
   "source": [
    "pip install -r requirements.txt\n",
    "\n",
    "python main.py --fine-tuning-on-mnist=none --mnist-pretrained-model=mnist_models/mnist_10.pth\n",
    "\n",
    "python main.py --fine-tuning-on-mnist=last-layers --mnist-pretrained-model=mnist_models/mnist_10.pth\n",
    "\n",
    "python main.py --fine-tuning-on-mnist=all-layers --mnist-pretrained-model=mnist_models/mnist_10.pth"
   ]
  }
 ],
 "metadata": {
  "kernelspec": {
   "display_name": "Python 3",
   "language": "python",
   "name": "python3"
  },
  "language_info": {
   "codemirror_mode": {
    "name": "ipython",
    "version": 3
   },
   "file_extension": ".py",
   "mimetype": "text/x-python",
   "name": "python",
   "nbconvert_exporter": "python",
   "pygments_lexer": "ipython3",
   "version": "3.6.5"
  }
 },
 "nbformat": 4,
 "nbformat_minor": 2
}
