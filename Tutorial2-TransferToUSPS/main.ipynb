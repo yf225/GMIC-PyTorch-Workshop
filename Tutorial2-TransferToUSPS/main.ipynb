{
 "cells": [
  {
   "cell_type": "markdown",
   "metadata": {},
   "source": [
    "# Tutorial 2: Transfer learning from MNIST to USPS!"
   ]
  },
  {
   "cell_type": "markdown",
   "metadata": {},
   "source": [
    "First, we import the necessary modules"
   ]
  },
  {
   "cell_type": "code",
   "execution_count": 1,
   "metadata": {},
   "outputs": [],
   "source": [
    "from __future__ import print_function\n",
    "import argparse\n",
    "import torch\n",
    "import torch.nn as nn\n",
    "import torch.nn.functional as F\n",
    "import torch.optim as optim\n",
    "from torchvision import datasets, transforms\n",
    "import sys\n",
    "from dataset.usps import USPS\n",
    "import numpy as np\n",
    "# from visdom import Visdom\n",
    "import matplotlib.pyplot as plt"
   ]
  },
  {
   "cell_type": "markdown",
   "metadata": {},
   "source": [
    "Set up argument parser for command line arguments"
   ]
  },
  {
   "cell_type": "code",
   "execution_count": 61,
   "metadata": {},
   "outputs": [],
   "source": [
    "# parser = argparse.ArgumentParser(description='PyTorch USPS Transfer Learning Example')\n",
    "# parser.add_argument('--epochs', type=int, default=10, metavar='N',\n",
    "#                     help='number of epochs to train (default: 10)')\n",
    "# parser.add_argument('--fine-tuning-on-mnist', type=str,\n",
    "#                     help='type of fine tuning on pretrained MNIST model, can be none/last-layer/all-layers')\n",
    "# parser.add_argument('--mnist-pretrained-model', type=str, \n",
    "#                     help='path to MNIST pretrained model')\n",
    "# args = parser.parse_args()\n",
    "\n",
    "# Parameters\n",
    "epochs = 10 # number of epochs to train (default: 10)\n",
    "fine_tuning_on_mnist = 'last-layer' # 'last-layer' / 'all-layers'\n",
    "mnist_pretrained_model = 'mnist_models/mnist.pth' # path to MNIST pretrained model"
   ]
  },
  {
   "cell_type": "markdown",
   "metadata": {},
   "source": [
    "Set up Visdom (for visualizing loss curve)"
   ]
  },
  {
   "cell_type": "code",
   "execution_count": 62,
   "metadata": {},
   "outputs": [],
   "source": [
    "def plot_loss_curve(nepochs, test_losses, accuracies):\n",
    "    plt.title('USPS loss curve, fine tune: ' + fine_tuning_on_mnist)\n",
    "    plt.xticks(np.arange(0, nepochs, 1))\n",
    "    plt.plot(range(nepochs), test_losses, 'r--', label='Loss')\n",
    "    plt.plot(range(nepochs), accuracies, 'b', label='Accuracy')\n",
    "    plt.legend()"
   ]
  },
  {
   "cell_type": "markdown",
   "metadata": {},
   "source": [
    "Define model structure"
   ]
  },
  {
   "cell_type": "code",
   "execution_count": 63,
   "metadata": {},
   "outputs": [],
   "source": [
    "class MNISTNet(nn.Module):\n",
    "    def __init__(self):\n",
    "        super(MNISTNet, self).__init__()\n",
    "        self.conv1 = nn.Conv2d(1, 10, kernel_size=5)\n",
    "        self.conv2 = nn.Conv2d(10, 20, kernel_size=5)\n",
    "        self.conv2_drop = nn.Dropout2d()\n",
    "        self.fc1 = nn.Linear(320, 50)\n",
    "        self.fc2 = nn.Linear(50, 10)\n",
    "\n",
    "    def forward(self, x):\n",
    "        x = F.relu(F.max_pool2d(self.conv1(x), 2))\n",
    "        x = F.relu(F.max_pool2d(self.conv2_drop(self.conv2(x)), 2))\n",
    "        x = x.view(-1, 320)\n",
    "        x = F.relu(self.fc1(x))\n",
    "        x = F.dropout(x, training=self.training)\n",
    "        x = self.fc2(x)\n",
    "        return F.log_softmax(x, dim=1)"
   ]
  },
  {
   "cell_type": "markdown",
   "metadata": {},
   "source": [
    "Set up model and optimizer. Decide which fine-tuning method to use\n",
    "(no tuning / tuning only last layer / tuning all layers) for transfer\n",
    "learning from MNIST model."
   ]
  },
  {
   "cell_type": "code",
   "execution_count": 69,
   "metadata": {},
   "outputs": [],
   "source": [
    "model = MNISTNet()\n",
    "\n",
    "layers_to_tune = model\n",
    "\n",
    "if fine_tuning_on_mnist in ['last-layer', 'all-layers']:\n",
    "    pretrained_model_path = mnist_pretrained_model\n",
    "    model.load_state_dict(torch.load(pretrained_model_path))\n",
    "\n",
    "    if fine_tuning_on_mnist == 'last-layer':\n",
    "        for p in model.parameters():\n",
    "            p.requires_grad = False\n",
    "        # Replace the last layer with a new uninitiated one, and only tune the parameters for this layer\n",
    "        model.fc2 = nn.Linear(50, 10)\n",
    "        layers_to_tune = model.fc2\n",
    "\n",
    "optimizer = optim.SGD(layers_to_tune.parameters(), lr=0.001, momentum=0.5)"
   ]
  },
  {
   "cell_type": "markdown",
   "metadata": {},
   "source": [
    "Load train and test data"
   ]
  },
  {
   "cell_type": "code",
   "execution_count": 70,
   "metadata": {},
   "outputs": [],
   "source": [
    "pre_process = transforms.Compose([transforms.ToTensor(),\n",
    "                                  transforms.Normalize(\n",
    "                                  mean=(0.5,),\n",
    "                                  std=(0.5,))])\n",
    "\n",
    "usps_dataset_train = USPS(root=\"data\",\n",
    "                    train=True,\n",
    "                    transform=pre_process,\n",
    "                    download=True)\n",
    "\n",
    "train_loader = torch.utils.data.DataLoader(\n",
    "                    dataset=usps_dataset_train,\n",
    "                    batch_size=64,\n",
    "                    shuffle=True)\n",
    "\n",
    "usps_dataset_test = USPS(root=\"data\",\n",
    "                    train=False,\n",
    "                    transform=pre_process,\n",
    "                    download=True)\n",
    "\n",
    "test_loader = torch.utils.data.DataLoader(\n",
    "                    dataset=usps_dataset_test,\n",
    "                    batch_size=1000,\n",
    "                    shuffle=True)"
   ]
  },
  {
   "cell_type": "markdown",
   "metadata": {},
   "source": [
    "Method for training the model"
   ]
  },
  {
   "cell_type": "code",
   "execution_count": 71,
   "metadata": {},
   "outputs": [],
   "source": [
    "def train(epoch):\n",
    "    model.train()\n",
    "    num_batches = 0\n",
    "    for batch_idx, (data, target) in enumerate(train_loader):\n",
    "        target = target.reshape(-1)\n",
    "        optimizer.zero_grad()\n",
    "        output = model(data)\n",
    "        loss = F.nll_loss(output, target)\n",
    "        loss.backward()\n",
    "        optimizer.step()\n",
    "        if batch_idx % 10 == 0:\n",
    "            print('Train Epoch: {} [{}/{} ({:.0f}%)]\\tLoss: {:.6f}'.format(\n",
    "                epoch, batch_idx * len(data), len(train_loader.dataset),\n",
    "                100. * batch_idx / len(train_loader), float(loss)))\n",
    "        num_batches += 1\n",
    "    torch.save(model.state_dict(), 'checkpoints/usps_%s.pth' % (epoch, ))"
   ]
  },
  {
   "cell_type": "markdown",
   "metadata": {},
   "source": [
    "Method for testing the model"
   ]
  },
  {
   "cell_type": "code",
   "execution_count": 72,
   "metadata": {},
   "outputs": [],
   "source": [
    "def test(epoch):\n",
    "    model.eval()\n",
    "    test_loss = 0\n",
    "    correct = 0\n",
    "    for data, target in test_loader:\n",
    "        target = target.reshape(-1)\n",
    "        with torch.no_grad():\n",
    "            output = model(data)\n",
    "            test_loss += float(F.nll_loss(output, target, size_average=False)) # sum up batch loss\n",
    "            pred = output.data.max(1, keepdim=True)[1] # get the index of the max log-probability\n",
    "            correct += int(pred.eq(target.data.view_as(pred)).cpu().long().sum())\n",
    "\n",
    "    test_loss /= len(test_loader.dataset)\n",
    "    accuracy = correct * 1.0 / len(test_loader.dataset)\n",
    "    print('\\nTest set: Average loss: {:.4f}, Accuracy: {}/{} ({:.0f}%)\\n'.format(\n",
    "        test_loss, correct, len(test_loader.dataset),\n",
    "        100. * accuracy))\n",
    "    \n",
    "    return test_loss, accuracy\n",
    "\n"
   ]
  },
  {
   "cell_type": "markdown",
   "metadata": {},
   "source": [
    "Train and test the model for a few epochs"
   ]
  },
  {
   "cell_type": "code",
   "execution_count": 73,
   "metadata": {},
   "outputs": [
    {
     "name": "stdout",
     "output_type": "stream",
     "text": [
      "Train Epoch: 1 [0/7438 (0%)]\tLoss: 5.880067\n",
      "Train Epoch: 1 [640/7438 (9%)]\tLoss: 5.225685\n",
      "Train Epoch: 1 [1280/7438 (17%)]\tLoss: 3.710082\n",
      "Train Epoch: 1 [1920/7438 (26%)]\tLoss: 3.927562\n",
      "Train Epoch: 1 [2560/7438 (34%)]\tLoss: 3.075169\n",
      "Train Epoch: 1 [3200/7438 (43%)]\tLoss: 2.937549\n",
      "Train Epoch: 1 [3840/7438 (51%)]\tLoss: 2.648147\n",
      "Train Epoch: 1 [4480/7438 (60%)]\tLoss: 3.093939\n",
      "Train Epoch: 1 [5120/7438 (68%)]\tLoss: 2.586032\n",
      "Train Epoch: 1 [5760/7438 (77%)]\tLoss: 2.135638\n",
      "Train Epoch: 1 [6400/7438 (85%)]\tLoss: 1.915341\n",
      "Train Epoch: 1 [7040/7438 (94%)]\tLoss: 2.025569\n",
      "\n",
      "Test set: Average loss: 0.8840, Accuracy: 1481/1860 (80%)\n",
      "\n",
      "Train Epoch: 2 [0/7438 (0%)]\tLoss: 2.678517\n",
      "Train Epoch: 2 [640/7438 (9%)]\tLoss: 3.160967\n",
      "Train Epoch: 2 [1280/7438 (17%)]\tLoss: 2.647947\n",
      "Train Epoch: 2 [1920/7438 (26%)]\tLoss: 2.281165\n",
      "Train Epoch: 2 [2560/7438 (34%)]\tLoss: 1.952005\n",
      "Train Epoch: 2 [3200/7438 (43%)]\tLoss: 2.310044\n",
      "Train Epoch: 2 [3840/7438 (51%)]\tLoss: 2.235347\n",
      "Train Epoch: 2 [4480/7438 (60%)]\tLoss: 1.838920\n",
      "Train Epoch: 2 [5120/7438 (68%)]\tLoss: 1.593672\n",
      "Train Epoch: 2 [5760/7438 (77%)]\tLoss: 2.071224\n",
      "Train Epoch: 2 [6400/7438 (85%)]\tLoss: 1.508248\n",
      "Train Epoch: 2 [7040/7438 (94%)]\tLoss: 1.406257\n",
      "\n",
      "Test set: Average loss: 0.6656, Accuracy: 1593/1860 (86%)\n",
      "\n",
      "Train Epoch: 3 [0/7438 (0%)]\tLoss: 2.941863\n",
      "Train Epoch: 3 [640/7438 (9%)]\tLoss: 2.730476\n",
      "Train Epoch: 3 [1280/7438 (17%)]\tLoss: 2.780963\n",
      "Train Epoch: 3 [1920/7438 (26%)]\tLoss: 2.390261\n",
      "Train Epoch: 3 [2560/7438 (34%)]\tLoss: 2.216156\n",
      "Train Epoch: 3 [3200/7438 (43%)]\tLoss: 2.015877\n",
      "Train Epoch: 3 [3840/7438 (51%)]\tLoss: 2.519791\n",
      "Train Epoch: 3 [4480/7438 (60%)]\tLoss: 1.865698\n",
      "Train Epoch: 3 [5120/7438 (68%)]\tLoss: 2.112840\n",
      "Train Epoch: 3 [5760/7438 (77%)]\tLoss: 2.037410\n",
      "Train Epoch: 3 [6400/7438 (85%)]\tLoss: 1.621890\n",
      "Train Epoch: 3 [7040/7438 (94%)]\tLoss: 2.114610\n",
      "\n",
      "Test set: Average loss: 0.8939, Accuracy: 1399/1860 (75%)\n",
      "\n",
      "Train Epoch: 4 [0/7438 (0%)]\tLoss: 3.563182\n",
      "Train Epoch: 4 [640/7438 (9%)]\tLoss: 3.255805\n",
      "Train Epoch: 4 [1280/7438 (17%)]\tLoss: 3.459694\n",
      "Train Epoch: 4 [1920/7438 (26%)]\tLoss: 4.173921\n",
      "Train Epoch: 4 [2560/7438 (34%)]\tLoss: 3.496629\n",
      "Train Epoch: 4 [3200/7438 (43%)]\tLoss: 2.898358\n",
      "Train Epoch: 4 [3840/7438 (51%)]\tLoss: 3.693812\n",
      "Train Epoch: 4 [4480/7438 (60%)]\tLoss: 3.586621\n",
      "Train Epoch: 4 [5120/7438 (68%)]\tLoss: 4.088897\n",
      "Train Epoch: 4 [5760/7438 (77%)]\tLoss: 4.229986\n",
      "Train Epoch: 4 [6400/7438 (85%)]\tLoss: 4.134034\n",
      "Train Epoch: 4 [7040/7438 (94%)]\tLoss: 3.919901\n",
      "\n",
      "Test set: Average loss: 5.3809, Accuracy: 415/1860 (22%)\n",
      "\n",
      "Train Epoch: 5 [0/7438 (0%)]\tLoss: 14.963514\n",
      "Train Epoch: 5 [640/7438 (9%)]\tLoss: 22.238111\n",
      "Train Epoch: 5 [1280/7438 (17%)]\tLoss: 22.323072\n",
      "Train Epoch: 5 [1920/7438 (26%)]\tLoss: 20.524052\n",
      "Train Epoch: 5 [2560/7438 (34%)]\tLoss: 22.846384\n",
      "Train Epoch: 5 [3200/7438 (43%)]\tLoss: 28.941652\n",
      "Train Epoch: 5 [3840/7438 (51%)]\tLoss: 22.806057\n",
      "Train Epoch: 5 [4480/7438 (60%)]\tLoss: 21.615191\n",
      "Train Epoch: 5 [5120/7438 (68%)]\tLoss: 16.855785\n",
      "Train Epoch: 5 [5760/7438 (77%)]\tLoss: 22.623940\n",
      "Train Epoch: 5 [6400/7438 (85%)]\tLoss: 20.797617\n",
      "Train Epoch: 5 [7040/7438 (94%)]\tLoss: 16.000717\n",
      "\n",
      "Test set: Average loss: 18.3334, Accuracy: 472/1860 (25%)\n",
      "\n",
      "Train Epoch: 6 [0/7438 (0%)]\tLoss: 56.355450\n",
      "Train Epoch: 6 [640/7438 (9%)]\tLoss: 70.895012\n",
      "Train Epoch: 6 [1280/7438 (17%)]\tLoss: 43.025890\n",
      "Train Epoch: 6 [1920/7438 (26%)]\tLoss: 56.523018\n",
      "Train Epoch: 6 [2560/7438 (34%)]\tLoss: 72.488884\n",
      "Train Epoch: 6 [3200/7438 (43%)]\tLoss: 58.707066\n",
      "Train Epoch: 6 [3840/7438 (51%)]\tLoss: 62.313515\n",
      "Train Epoch: 6 [4480/7438 (60%)]\tLoss: 67.053116\n",
      "Train Epoch: 6 [5120/7438 (68%)]\tLoss: 102.530502\n",
      "Train Epoch: 6 [5760/7438 (77%)]\tLoss: 89.385345\n",
      "Train Epoch: 6 [6400/7438 (85%)]\tLoss: 67.590057\n",
      "Train Epoch: 6 [7040/7438 (94%)]\tLoss: 72.667908\n",
      "\n",
      "Test set: Average loss: 32.0984, Accuracy: 710/1860 (38%)\n",
      "\n",
      "Train Epoch: 7 [0/7438 (0%)]\tLoss: 115.866348\n",
      "Train Epoch: 7 [640/7438 (9%)]\tLoss: 561.651672\n",
      "Train Epoch: 7 [1280/7438 (17%)]\tLoss: 434.362274\n",
      "Train Epoch: 7 [1920/7438 (26%)]\tLoss: 337.588165\n",
      "Train Epoch: 7 [2560/7438 (34%)]\tLoss: 224.258636\n",
      "Train Epoch: 7 [3200/7438 (43%)]\tLoss: 155.850922\n",
      "Train Epoch: 7 [3840/7438 (51%)]\tLoss: 390.291321\n",
      "Train Epoch: 7 [4480/7438 (60%)]\tLoss: 380.253601\n",
      "Train Epoch: 7 [5120/7438 (68%)]\tLoss: 469.576294\n",
      "Train Epoch: 7 [5760/7438 (77%)]\tLoss: 337.421967\n",
      "Train Epoch: 7 [6400/7438 (85%)]\tLoss: 293.652191\n",
      "Train Epoch: 7 [7040/7438 (94%)]\tLoss: 292.129639\n",
      "\n",
      "Test set: Average loss: 144.7902, Accuracy: 871/1860 (47%)\n",
      "\n",
      "Train Epoch: 8 [0/7438 (0%)]\tLoss: 631.054932\n",
      "Train Epoch: 8 [640/7438 (9%)]\tLoss: 2159.071777\n",
      "Train Epoch: 8 [1280/7438 (17%)]\tLoss: 1363.762817\n",
      "Train Epoch: 8 [1920/7438 (26%)]\tLoss: 1253.524536\n",
      "Train Epoch: 8 [2560/7438 (34%)]\tLoss: 1283.993164\n",
      "Train Epoch: 8 [3200/7438 (43%)]\tLoss: 906.579468\n",
      "Train Epoch: 8 [3840/7438 (51%)]\tLoss: 1346.184082\n",
      "Train Epoch: 8 [4480/7438 (60%)]\tLoss: 1799.744263\n",
      "Train Epoch: 8 [5120/7438 (68%)]\tLoss: 873.140686\n",
      "Train Epoch: 8 [5760/7438 (77%)]\tLoss: 1210.238525\n",
      "Train Epoch: 8 [6400/7438 (85%)]\tLoss: 1389.038330\n",
      "Train Epoch: 8 [7040/7438 (94%)]\tLoss: 973.773804\n",
      "\n",
      "Test set: Average loss: 504.8764, Accuracy: 839/1860 (45%)\n",
      "\n",
      "Train Epoch: 9 [0/7438 (0%)]\tLoss: 2345.030273\n",
      "Train Epoch: 9 [640/7438 (9%)]\tLoss: 4504.690430\n",
      "Train Epoch: 9 [1280/7438 (17%)]\tLoss: 4988.716797\n",
      "Train Epoch: 9 [1920/7438 (26%)]\tLoss: 5540.234863\n",
      "Train Epoch: 9 [2560/7438 (34%)]\tLoss: 7136.885254\n",
      "Train Epoch: 9 [3200/7438 (43%)]\tLoss: 6196.655273\n",
      "Train Epoch: 9 [3840/7438 (51%)]\tLoss: 4742.362305\n",
      "Train Epoch: 9 [4480/7438 (60%)]\tLoss: 4722.039062\n",
      "Train Epoch: 9 [5120/7438 (68%)]\tLoss: 3793.571533\n",
      "Train Epoch: 9 [5760/7438 (77%)]\tLoss: 2800.980957\n",
      "Train Epoch: 9 [6400/7438 (85%)]\tLoss: 4871.590820\n",
      "Train Epoch: 9 [7040/7438 (94%)]\tLoss: 3339.974609\n",
      "\n",
      "Test set: Average loss: 7677.9390, Accuracy: 275/1860 (15%)\n",
      "\n",
      "Train Epoch: 10 [0/7438 (0%)]\tLoss: 20820.537109\n",
      "Train Epoch: 10 [640/7438 (9%)]\tLoss: 35896.828125\n",
      "Train Epoch: 10 [1280/7438 (17%)]\tLoss: 17233.505859\n",
      "Train Epoch: 10 [1920/7438 (26%)]\tLoss: 19946.464844\n",
      "Train Epoch: 10 [2560/7438 (34%)]\tLoss: 19294.714844\n",
      "Train Epoch: 10 [3200/7438 (43%)]\tLoss: 15795.380859\n",
      "Train Epoch: 10 [3840/7438 (51%)]\tLoss: 19132.083984\n",
      "Train Epoch: 10 [4480/7438 (60%)]\tLoss: 22258.589844\n",
      "Train Epoch: 10 [5120/7438 (68%)]\tLoss: 14251.005859\n",
      "Train Epoch: 10 [5760/7438 (77%)]\tLoss: 19508.794922\n",
      "Train Epoch: 10 [6400/7438 (85%)]\tLoss: 12628.641602\n",
      "Train Epoch: 10 [7040/7438 (94%)]\tLoss: 21148.068359\n",
      "\n",
      "Test set: Average loss: 24128.8032, Accuracy: 767/1860 (41%)\n",
      "\n"
     ]
    },
    {
     "data": {
      "image/png": "[encoded data removed]",
      "text/plain": [
       "<Figure size 432x288 with 1 Axes>"
      ]
     },
     "metadata": {},
     "output_type": "display_data"
    }
   ],
   "source": [
    "test_losses = []\n",
    "accuracies = []\n",
    "for epoch in range(1, epochs + 1):\n",
    "    train(epoch)\n",
    "    test_loss, accuracy = test(epoch)\n",
    "    test_losses.append(test_loss)\n",
    "    accuracies.append(accuracy)\n",
    "    \n",
    "plot_loss_curve(epoch, test_losses, accuracies)"
   ]
  },
  {
   "cell_type": "raw",
   "metadata": {},
   "source": [
    "pip install -r requirements.txt\n",
    "\n",
    "python main.py --fine-tuning-on-mnist=none --mnist-pretrained-model=mnist_models/mnist_10.pth\n",
    "\n",
    "python main.py --fine-tuning-on-mnist=last-layers --mnist-pretrained-model=mnist_models/mnist_10.pth\n",
    "\n",
    "python main.py --fine-tuning-on-mnist=all-layers --mnist-pretrained-model=mnist_models/mnist_10.pth"
   ]
  },
  {
   "cell_type": "code",
   "execution_count": null,
   "metadata": {},
   "outputs": [],
   "source": []
  }
 ],
 "metadata": {
  "kernelspec": {
   "display_name": "Python 3",
   "language": "python",
   "name": "python3"
  },
  "language_info": {
   "codemirror_mode": {
    "name": "ipython",
    "version": 3
   },
   "file_extension": ".py",
   "mimetype": "text/x-python",
   "name": "python",
   "nbconvert_exporter": "python",
   "pygments_lexer": "ipython3",
   "version": "3.6.5"
  }
 },
 "nbformat": 4,
 "nbformat_minor": 2
}
