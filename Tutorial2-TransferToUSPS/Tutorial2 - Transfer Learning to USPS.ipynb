{
 "cells": [
  {
   "cell_type": "markdown",
   "metadata": {},
   "source": [
    "# 教程二：迁移学习 - 从MNIST到USPS"
   ]
  },
  {
   "cell_type": "markdown",
   "metadata": {},
   "source": [
    "First, we import the necessary modules"
   ]
  },
  {
   "cell_type": "code",
   "execution_count": 1,
   "metadata": {},
   "outputs": [],
   "source": [
    "import torch\n",
    "import torch.nn as nn\n",
    "import torch.nn.functional as F"
   ]
  },
  {
   "cell_type": "markdown",
   "metadata": {},
   "source": [
    "Set up matplotlib for visualizing loss curve"
   ]
  },
  {
   "cell_type": "code",
   "execution_count": 2,
   "metadata": {},
   "outputs": [],
   "source": [
    "%matplotlib inline\n",
    "import matplotlib.pyplot as plt\n",
    "import numpy as np\n",
    "def plot_loss_curve(nepochs, test_losses, accuracies, plot_name):\n",
    "    plt.title(plot_name)\n",
    "    plt.xticks(np.arange(0, nepochs, 1))\n",
    "    plt.gca().set_ylim([0, 1.6])\n",
    "    plt.plot(range(nepochs), test_losses, 'r--', label='Loss')\n",
    "    plt.plot(range(nepochs), accuracies, 'b', label='Accuracy')\n",
    "    plt.legend()"
   ]
  },
  {
   "cell_type": "markdown",
   "metadata": {},
   "source": [
    "Define model structure"
   ]
  },
  {
   "cell_type": "code",
   "execution_count": 3,
   "metadata": {},
   "outputs": [],
   "source": [
    "# Define our own CNN\n",
    "class CNN(nn.Module):\n",
    "    def __init__(self):\n",
    "        super(CNN, self).__init__()\n",
    "        self.conv1 = nn.Conv2d(1, 10, kernel_size=5)\n",
    "        self.conv2 = nn.Conv2d(10, 20, kernel_size=5)\n",
    "        self.fc1 = nn.Linear(20 * 4 * 4, 50)\n",
    "        self.fc2 = nn.Linear(50, 10)\n",
    "        \n",
    "    def forward(self, x):\n",
    "        x = F.relu(F.max_pool2d(self.conv1(x), 2))\n",
    "        x = F.relu(F.max_pool2d(self.conv2(x), 2))\n",
    "        x = x.view(-1, 20 * 4 * 4)\n",
    "        x = F.relu(self.fc1(x))\n",
    "        x = self.fc2(x)\n",
    "        return F.log_softmax(x, dim=-1)"
   ]
  },
  {
   "cell_type": "markdown",
   "metadata": {},
   "source": [
    "Set up model and optimizer. First we train the model without any transfer learning, to see how well it does."
   ]
  },
  {
   "cell_type": "code",
   "execution_count": 4,
   "metadata": {},
   "outputs": [],
   "source": [
    "model = CNN()\n",
    "\n",
    "import torch.optim as optim\n",
    "optimizer = optim.SGD(model.parameters(), lr=0.01, momentum=0.5)"
   ]
  },
  {
   "cell_type": "markdown",
   "metadata": {},
   "source": [
    "Load train and test data"
   ]
  },
  {
   "cell_type": "code",
   "execution_count": 5,
   "metadata": {},
   "outputs": [],
   "source": [
    "from dataset.usps import USPS\n",
    "from torchvision import transforms\n",
    "\n",
    "pre_process = transforms.Compose([transforms.ToTensor(),\n",
    "                                  transforms.Normalize(\n",
    "                                  mean=(0.5, 0.5, 0.5),\n",
    "                                  std=(0.5, 0.5, 0.5))])\n",
    "\n",
    "usps_dataset_train = USPS(root=\"data\",\n",
    "                    train=True,\n",
    "                    transform=pre_process,\n",
    "                    download=True)\n",
    "\n",
    "train_loader = torch.utils.data.DataLoader(\n",
    "                    dataset=usps_dataset_train,\n",
    "                    batch_size=64,\n",
    "                    shuffle=True)\n",
    "\n",
    "usps_dataset_test = USPS(root=\"data\",\n",
    "                    train=False,\n",
    "                    transform=pre_process,\n",
    "                    download=True)\n",
    "\n",
    "test_loader = torch.utils.data.DataLoader(\n",
    "                    dataset=usps_dataset_test,\n",
    "                    batch_size=1000,\n",
    "                    shuffle=True)"
   ]
  },
  {
   "cell_type": "markdown",
   "metadata": {},
   "source": [
    "Method for training the model"
   ]
  },
  {
   "cell_type": "code",
   "execution_count": 6,
   "metadata": {},
   "outputs": [],
   "source": [
    "from IPython.display import clear_output\n",
    "def train(epoch, model, optimizer):\n",
    "    model.train()\n",
    "    num_batches = 0\n",
    "    for batch_idx, (data, target) in enumerate(train_loader):\n",
    "        target = target.reshape(-1)\n",
    "        optimizer.zero_grad()\n",
    "        output = model(data)\n",
    "        loss = F.nll_loss(output, target)\n",
    "        loss.backward()\n",
    "        optimizer.step()\n",
    "        print('Train Epoch: {} [{}/{} ({:.0f}%)]\\tLoss: {:.6f}'.format(\n",
    "            epoch, batch_idx * len(data), len(train_loader.dataset),\n",
    "            100. * batch_idx / len(train_loader), float(loss)), end='\\r')\n",
    "        num_batches += 1\n",
    "    torch.save(model.state_dict(), 'checkpoints/usps_%s.pth' % (epoch, ))"
   ]
  },
  {
   "cell_type": "markdown",
   "metadata": {},
   "source": [
    "Method for testing the model"
   ]
  },
  {
   "cell_type": "code",
   "execution_count": 7,
   "metadata": {},
   "outputs": [],
   "source": [
    "def test(epoch, model):\n",
    "    model.eval()\n",
    "    test_loss = 0\n",
    "    correct = 0\n",
    "    for data, target in test_loader:\n",
    "        target = target.reshape(-1)\n",
    "        with torch.no_grad():\n",
    "            output = model(data)\n",
    "            test_loss += float(F.nll_loss(output, target, size_average=False)) # sum up batch loss\n",
    "            pred = output.data.max(1, keepdim=True)[1] # get the index of the max log-probability\n",
    "            correct += int(pred.eq(target.data.view_as(pred)).long().sum())\n",
    "\n",
    "    test_loss /= len(test_loader.dataset)\n",
    "    accuracy = correct * 1.0 / len(test_loader.dataset)\n",
    "    print('\\nTest set: Average loss: {:.4f}, Accuracy: {}/{} ({:.0f}%)\\n'.format(\n",
    "        test_loss, correct, len(test_loader.dataset),\n",
    "        100. * accuracy))\n",
    "    \n",
    "    return test_loss, accuracy"
   ]
  },
  {
   "cell_type": "markdown",
   "metadata": {},
   "source": [
    "Train and test the model for a few epochs"
   ]
  },
  {
   "cell_type": "code",
   "execution_count": 8,
   "metadata": {},
   "outputs": [
    {
     "name": "stdout",
     "output_type": "stream",
     "text": [
      "Train Epoch: 0 [1624/7438 (99%)]\tLoss: 2.163541\n",
      "Test set: Average loss: 2.0929, Accuracy: 572/1860 (31%)\n",
      "\n",
      "Train Epoch: 1 [1624/7438 (99%)]\tLoss: 0.796093\n",
      "Test set: Average loss: 0.7584, Accuracy: 1392/1860 (75%)\n",
      "\n",
      "Train Epoch: 2 [1624/7438 (99%)]\tLoss: 0.106264\n",
      "Test set: Average loss: 0.3931, Accuracy: 1630/1860 (88%)\n",
      "\n",
      "Train Epoch: 3 [1624/7438 (99%)]\tLoss: 0.137748\n",
      "Test set: Average loss: 0.3016, Accuracy: 1690/1860 (91%)\n",
      "\n",
      "Train Epoch: 4 [1624/7438 (99%)]\tLoss: 0.127993\n",
      "Test set: Average loss: 0.2425, Accuracy: 1722/1860 (93%)\n",
      "\n",
      "Train Epoch: 5 [1624/7438 (99%)]\tLoss: 0.039456\n",
      "Test set: Average loss: 0.2126, Accuracy: 1732/1860 (93%)\n",
      "\n",
      "Train Epoch: 6 [1624/7438 (99%)]\tLoss: 0.341555\n",
      "Test set: Average loss: 0.2131, Accuracy: 1753/1860 (94%)\n",
      "\n",
      "Train Epoch: 7 [1624/7438 (99%)]\tLoss: 0.184891\n",
      "Test set: Average loss: 0.1943, Accuracy: 1745/1860 (94%)\n",
      "\n",
      "Train Epoch: 8 [1624/7438 (99%)]\tLoss: 0.043327\n",
      "Test set: Average loss: 0.1602, Accuracy: 1769/1860 (95%)\n",
      "\n",
      "Train Epoch: 9 [1624/7438 (99%)]\tLoss: 0.138686\n",
      "Test set: Average loss: 0.1599, Accuracy: 1766/1860 (95%)\n",
      "\n"
     ]
    },
    {
     "data": {
      "image/png": "[encoded data removed]",
      "text/plain": [
       "<Figure size 432x288 with 1 Axes>"
      ]
     },
     "metadata": {},
     "output_type": "display_data"
    }
   ],
   "source": [
    "test_losses = []\n",
    "accuracies = []\n",
    "for epoch in range(10):\n",
    "    train(epoch, model, optimizer)\n",
    "    test_loss, accuracy = test(epoch, model)\n",
    "    test_losses.append(test_loss)\n",
    "    accuracies.append(accuracy)\n",
    "    \n",
    "plot_loss_curve(10, test_losses, accuracies, 'no trasfer learning')"
   ]
  },
  {
   "cell_type": "code",
   "execution_count": 10,
   "metadata": {},
   "outputs": [
    {
     "data": {
      "text/plain": [
       "\"\\nlayers_to_tune = model\\n\\nif fine_tuning_on_mnist in ['last-layer', 'all-layers']:\\n    pretrained_model_path = 'mnist_models/mnist.pth'\\n    model.load_state_dict(torch.load(pretrained_model_path))\\n\\n    if fine_tuning_on_mnist == 'last-layer':\\n        # Replace the last layer with a new uninitiated one, and only tune the parameters for this layer\\n        model.fc2 = nn.Linear(50, 10)\\n        layers_to_tune = model.fc2\\n\\nimport torch.optim as optim\\noptimizer = optim.SGD(layers_to_tune.parameters(), lr=0.01, momentum=0.5)\\n\""
      ]
     },
     "execution_count": 10,
     "metadata": {},
     "output_type": "execute_result"
    }
   ],
   "source": [
    "# Now, let's see what will happen if we reuse the pretrained MNIST model, and only replace the last layer\n",
    "\n",
    "pretrained_model_path = 'mnist_models/mnist.pth'\n",
    "model = CNN()\n",
    "model.load_state_dict(torch.load(pretrained_model_path))\n",
    "\n",
    "model.fc2 = nn.Linear(50, 10) # Only replace the last layer\n",
    "\n",
    "optimizer = optim.SGD(model.fc2.parameters(), lr=0.01, momentum=0.5)\n",
    "\n",
    "'''\n",
    "layers_to_tune = model\n",
    "\n",
    "if fine_tuning_on_mnist in ['last-layer', 'all-layers']:\n",
    "    pretrained_model_path = 'mnist_models/mnist.pth'\n",
    "    model.load_state_dict(torch.load(pretrained_model_path))\n",
    "\n",
    "    if fine_tuning_on_mnist == 'last-layer':\n",
    "        # Replace the last layer with a new uninitiated one, and only tune the parameters for this layer\n",
    "        model.fc2 = nn.Linear(50, 10)\n",
    "        layers_to_tune = model.fc2\n",
    "\n",
    "import torch.optim as optim\n",
    "optimizer = optim.SGD(layers_to_tune.parameters(), lr=0.01, momentum=0.5)\n",
    "'''"
   ]
  },
  {
   "cell_type": "code",
   "execution_count": 11,
   "metadata": {},
   "outputs": [
    {
     "name": "stdout",
     "output_type": "stream",
     "text": [
      "Train Epoch: 0 [1624/7438 (99%)]\tLoss: 0.199351\n",
      "Test set: Average loss: 0.2191, Accuracy: 1746/1860 (94%)\n",
      "\n",
      "Train Epoch: 1 [1624/7438 (99%)]\tLoss: 0.049367\n",
      "Test set: Average loss: 0.1766, Accuracy: 1766/1860 (95%)\n",
      "\n",
      "Train Epoch: 2 [1624/7438 (99%)]\tLoss: 0.145520\n",
      "Test set: Average loss: 0.1584, Accuracy: 1778/1860 (96%)\n",
      "\n",
      "Train Epoch: 3 [1624/7438 (99%)]\tLoss: 0.041671\n",
      "Test set: Average loss: 0.1484, Accuracy: 1771/1860 (95%)\n",
      "\n",
      "Train Epoch: 4 [1624/7438 (99%)]\tLoss: 0.279417\n",
      "Test set: Average loss: 0.1488, Accuracy: 1777/1860 (96%)\n",
      "\n",
      "Train Epoch: 5 [1624/7438 (99%)]\tLoss: 0.169300\n",
      "Test set: Average loss: 0.1393, Accuracy: 1781/1860 (96%)\n",
      "\n",
      "Train Epoch: 6 [1624/7438 (99%)]\tLoss: 0.032223\n",
      "Test set: Average loss: 0.1374, Accuracy: 1790/1860 (96%)\n",
      "\n",
      "Train Epoch: 7 [1624/7438 (99%)]\tLoss: 0.041371\n",
      "Test set: Average loss: 0.1287, Accuracy: 1787/1860 (96%)\n",
      "\n",
      "Train Epoch: 8 [1624/7438 (99%)]\tLoss: 0.009620\n",
      "Test set: Average loss: 0.1307, Accuracy: 1786/1860 (96%)\n",
      "\n",
      "Train Epoch: 9 [1624/7438 (99%)]\tLoss: 0.056408\n",
      "Test set: Average loss: 0.1276, Accuracy: 1788/1860 (96%)\n",
      "\n"
     ]
    },
    {
     "data": {
      "image/png": "[encoded data removed]",
      "text/plain": [
       "<Figure size 432x288 with 1 Axes>"
      ]
     },
     "metadata": {},
     "output_type": "display_data"
    }
   ],
   "source": [
    "test_losses = []\n",
    "accuracies = []\n",
    "for epoch in range(10):\n",
    "    train(epoch, model, optimizer)\n",
    "    test_loss, accuracy = test(epoch, model)\n",
    "    test_losses.append(test_loss)\n",
    "    accuracies.append(accuracy)\n",
    "    \n",
    "plot_loss_curve(10, test_losses, accuracies, 'last layer')"
   ]
  },
  {
   "cell_type": "code",
   "execution_count": 13,
   "metadata": {},
   "outputs": [],
   "source": [
    "# Now, let's see what will happen if we reuse the pretrained MNIST model, but then fine-tune the whole model\n",
    "\n",
    "pretrained_model_path = 'mnist_models/mnist.pth'\n",
    "model = CNN()\n",
    "model.load_state_dict(torch.load(pretrained_model_path))\n",
    "\n",
    "optimizer = optim.SGD(model.parameters(), lr=0.01, momentum=0.5)"
   ]
  },
  {
   "cell_type": "code",
   "execution_count": 14,
   "metadata": {},
   "outputs": [
    {
     "name": "stdout",
     "output_type": "stream",
     "text": [
      "Train Epoch: 0 [1624/7438 (99%)]\tLoss: 0.046184\n",
      "Test set: Average loss: 0.1095, Accuracy: 1800/1860 (97%)\n",
      "\n",
      "Train Epoch: 1 [1624/7438 (99%)]\tLoss: 0.146399\n",
      "Test set: Average loss: 0.1408, Accuracy: 1779/1860 (96%)\n",
      "\n",
      "Train Epoch: 2 [1624/7438 (99%)]\tLoss: 0.004781\n",
      "Test set: Average loss: 0.0912, Accuracy: 1813/1860 (97%)\n",
      "\n",
      "Train Epoch: 3 [1624/7438 (99%)]\tLoss: 0.013513\n",
      "Test set: Average loss: 0.0762, Accuracy: 1815/1860 (98%)\n",
      "\n",
      "Train Epoch: 4 [1624/7438 (99%)]\tLoss: 0.358502\n",
      "Test set: Average loss: 0.1011, Accuracy: 1800/1860 (97%)\n",
      "\n",
      "Train Epoch: 5 [1624/7438 (99%)]\tLoss: 0.112879\n",
      "Test set: Average loss: 0.0901, Accuracy: 1805/1860 (97%)\n",
      "\n",
      "Train Epoch: 6 [1624/7438 (99%)]\tLoss: 0.071988\n",
      "Test set: Average loss: 0.0945, Accuracy: 1805/1860 (97%)\n",
      "\n",
      "Train Epoch: 7 [1624/7438 (99%)]\tLoss: 0.002178\n",
      "Test set: Average loss: 0.0785, Accuracy: 1811/1860 (97%)\n",
      "\n",
      "Train Epoch: 8 [1624/7438 (99%)]\tLoss: 0.005888\n",
      "Test set: Average loss: 0.0694, Accuracy: 1823/1860 (98%)\n",
      "\n",
      "Train Epoch: 9 [1624/7438 (99%)]\tLoss: 0.014599\n",
      "Test set: Average loss: 0.0690, Accuracy: 1819/1860 (98%)\n",
      "\n"
     ]
    },
    {
     "data": {
      "image/png": "[encoded data removed]",
      "text/plain": [
       "<Figure size 432x288 with 1 Axes>"
      ]
     },
     "metadata": {},
     "output_type": "display_data"
    }
   ],
   "source": [
    "test_losses = []\n",
    "accuracies = []\n",
    "for epoch in range(10):\n",
    "    train(epoch, model, optimizer)\n",
    "    test_loss, accuracy = test(epoch, model)\n",
    "    test_losses.append(test_loss)\n",
    "    accuracies.append(accuracy)\n",
    "    \n",
    "plot_loss_curve(10, test_losses, accuracies, 'all layers')"
   ]
  },
  {
   "cell_type": "code",
   "execution_count": null,
   "metadata": {},
   "outputs": [],
   "source": [
    "# Comparing three three plots, we can see that training with pretrained MNIST model converges much faster,\n",
    "# and all layers is better than last layer because the model can fit the new dataset better"
   ]
  }
 ],
 "metadata": {
  "kernelspec": {
   "display_name": "Python 3",
   "language": "python",
   "name": "python3"
  },
  "language_info": {
   "codemirror_mode": {
    "name": "ipython",
    "version": 3
   },
   "file_extension": ".py",
   "mimetype": "text/x-python",
   "name": "python",
   "nbconvert_exporter": "python",
   "pygments_lexer": "ipython3",
   "version": "3.6.4"
  }
 },
 "nbformat": 4,
 "nbformat_minor": 2
}
